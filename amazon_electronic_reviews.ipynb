{
  "cells": [
    {
      "cell_type": "markdown",
      "metadata": {
        "id": "syZaYSI58iEt",
        "papermill": {
          "duration": 0.051747,
          "end_time": "2021-03-26T05:39:21.829565",
          "exception": false,
          "start_time": "2021-03-26T05:39:21.777818",
          "status": "completed"
        },
        "tags": []
      },
      "source": [
        "# Introduction"
      ]
    },
    {
      "cell_type": "markdown",
      "metadata": {
        "id": "1jSBck8a8iFA",
        "papermill": {
          "duration": 0.045698,
          "end_time": "2021-03-26T05:39:22.148281",
          "exception": false,
          "start_time": "2021-03-26T05:39:22.102583",
          "status": "completed"
        },
        "tags": []
      },
      "source": [
        "Data Preparation\n",
        "--"
      ]
    },
    {
      "cell_type": "markdown",
      "metadata": {
        "id": "LBIzcnRy8iFB",
        "papermill": {
          "duration": 0.047418,
          "end_time": "2021-03-26T05:39:22.241674",
          "exception": false,
          "start_time": "2021-03-26T05:39:22.194256",
          "status": "completed"
        },
        "tags": []
      },
      "source": [
        "Before we start with the problem statements, we have to do a little data preparation.\n",
        "\n",
        "First, let's import all required files."
      ]
    },
    {
      "cell_type": "code",
      "execution_count": null,
      "metadata": {
        "_cell_guid": "b1076dfc-b9ad-4769-8c92-a6c4dae69d19",
        "_uuid": "8f2839f25d086af736a60e9eeb907d3b93b6e0e5",
        "colab": {
          "base_uri": "https://localhost:8080/"
        },
        "execution": {
          "iopub.execute_input": "2021-03-26T05:39:22.349873Z",
          "iopub.status.busy": "2021-03-26T05:39:22.349062Z",
          "iopub.status.idle": "2021-03-26T05:39:24.987294Z",
          "shell.execute_reply": "2021-03-26T05:39:24.985828Z"
        },
        "id": "GO9QTrJb8iFC",
        "outputId": "0c666019-bed2-4768-adaa-e4d44c627139",
        "papermill": {
          "duration": 2.694177,
          "end_time": "2021-03-26T05:39:24.987635",
          "exception": false,
          "start_time": "2021-03-26T05:39:22.293458",
          "status": "completed"
        },
        "tags": []
      },
      "outputs": [
        {
          "ename": "LookupError",
          "evalue": "\n**********************************************************************\n  Resource \u001b[93mstopwords\u001b[0m not found.\n  Please use the NLTK Downloader to obtain the resource:\n\n  \u001b[31m>>> import nltk\n  >>> nltk.download('stopwords')\n  \u001b[0m\n  For more information see: https://www.nltk.org/data.html\n\n  Attempted to load \u001b[93mcorpora/stopwords\u001b[0m\n\n  Searched in:\n    - 'C:\\\\Users\\\\WAIYAKI/nltk_data'\n    - 'c:\\\\Users\\\\WAIYAKI\\\\AppData\\\\Local\\\\Programs\\\\Python\\\\Python310\\\\nltk_data'\n    - 'c:\\\\Users\\\\WAIYAKI\\\\AppData\\\\Local\\\\Programs\\\\Python\\\\Python310\\\\share\\\\nltk_data'\n    - 'c:\\\\Users\\\\WAIYAKI\\\\AppData\\\\Local\\\\Programs\\\\Python\\\\Python310\\\\lib\\\\nltk_data'\n    - 'C:\\\\Users\\\\WAIYAKI\\\\AppData\\\\Roaming\\\\nltk_data'\n    - 'C:\\\\nltk_data'\n    - 'D:\\\\nltk_data'\n    - 'E:\\\\nltk_data'\n**********************************************************************\n",
          "output_type": "error",
          "traceback": [
            "\u001b[1;31m---------------------------------------------------------------------------\u001b[0m",
            "\u001b[1;31mLookupError\u001b[0m                               Traceback (most recent call last)",
            "File \u001b[1;32mc:\\Users\\WAIYAKI\\AppData\\Local\\Programs\\Python\\Python310\\lib\\site-packages\\nltk\\corpus\\util.py:84\u001b[0m, in \u001b[0;36mLazyCorpusLoader.__load\u001b[1;34m(self)\u001b[0m\n\u001b[0;32m     83\u001b[0m \u001b[39mtry\u001b[39;00m:\n\u001b[1;32m---> 84\u001b[0m     root \u001b[39m=\u001b[39m nltk\u001b[39m.\u001b[39;49mdata\u001b[39m.\u001b[39;49mfind(\u001b[39mf\u001b[39;49m\u001b[39m\"\u001b[39;49m\u001b[39m{\u001b[39;49;00m\u001b[39mself\u001b[39;49m\u001b[39m.\u001b[39;49msubdir\u001b[39m}\u001b[39;49;00m\u001b[39m/\u001b[39;49m\u001b[39m{\u001b[39;49;00mzip_name\u001b[39m}\u001b[39;49;00m\u001b[39m\"\u001b[39;49m)\n\u001b[0;32m     85\u001b[0m \u001b[39mexcept\u001b[39;00m \u001b[39mLookupError\u001b[39;00m:\n",
            "File \u001b[1;32mc:\\Users\\WAIYAKI\\AppData\\Local\\Programs\\Python\\Python310\\lib\\site-packages\\nltk\\data.py:583\u001b[0m, in \u001b[0;36mfind\u001b[1;34m(resource_name, paths)\u001b[0m\n\u001b[0;32m    582\u001b[0m resource_not_found \u001b[39m=\u001b[39m \u001b[39mf\u001b[39m\u001b[39m\"\u001b[39m\u001b[39m\\n\u001b[39;00m\u001b[39m{\u001b[39;00msep\u001b[39m}\u001b[39;00m\u001b[39m\\n\u001b[39;00m\u001b[39m{\u001b[39;00mmsg\u001b[39m}\u001b[39;00m\u001b[39m\\n\u001b[39;00m\u001b[39m{\u001b[39;00msep\u001b[39m}\u001b[39;00m\u001b[39m\\n\u001b[39;00m\u001b[39m\"\u001b[39m\n\u001b[1;32m--> 583\u001b[0m \u001b[39mraise\u001b[39;00m \u001b[39mLookupError\u001b[39;00m(resource_not_found)\n",
            "\u001b[1;31mLookupError\u001b[0m: \n**********************************************************************\n  Resource \u001b[93mstopwords\u001b[0m not found.\n  Please use the NLTK Downloader to obtain the resource:\n\n  \u001b[31m>>> import nltk\n  >>> nltk.download('stopwords')\n  \u001b[0m\n  For more information see: https://www.nltk.org/data.html\n\n  Attempted to load \u001b[93mcorpora/stopwords.zip/stopwords/\u001b[0m\n\n  Searched in:\n    - 'C:\\\\Users\\\\WAIYAKI/nltk_data'\n    - 'c:\\\\Users\\\\WAIYAKI\\\\AppData\\\\Local\\\\Programs\\\\Python\\\\Python310\\\\nltk_data'\n    - 'c:\\\\Users\\\\WAIYAKI\\\\AppData\\\\Local\\\\Programs\\\\Python\\\\Python310\\\\share\\\\nltk_data'\n    - 'c:\\\\Users\\\\WAIYAKI\\\\AppData\\\\Local\\\\Programs\\\\Python\\\\Python310\\\\lib\\\\nltk_data'\n    - 'C:\\\\Users\\\\WAIYAKI\\\\AppData\\\\Roaming\\\\nltk_data'\n    - 'C:\\\\nltk_data'\n    - 'D:\\\\nltk_data'\n    - 'E:\\\\nltk_data'\n**********************************************************************\n",
            "\nDuring handling of the above exception, another exception occurred:\n",
            "\u001b[1;31mLookupError\u001b[0m                               Traceback (most recent call last)",
            "Cell \u001b[1;32mIn [2], line 12\u001b[0m\n\u001b[0;32m     10\u001b[0m \u001b[39mimport\u001b[39;00m \u001b[39mnltk\u001b[39;00m\n\u001b[0;32m     11\u001b[0m \u001b[39mfrom\u001b[39;00m \u001b[39mnltk\u001b[39;00m\u001b[39m.\u001b[39;00m\u001b[39mcorpus\u001b[39;00m \u001b[39mimport\u001b[39;00m stopwords \n\u001b[1;32m---> 12\u001b[0m stops \u001b[39m=\u001b[39m \u001b[39mset\u001b[39m(stopwords\u001b[39m.\u001b[39;49mwords(\u001b[39m\"\u001b[39m\u001b[39menglish\u001b[39m\u001b[39m\"\u001b[39m))\n\u001b[0;32m     14\u001b[0m \u001b[39mimport\u001b[39;00m \u001b[39mre\u001b[39;00m\n\u001b[0;32m     15\u001b[0m \u001b[39mfrom\u001b[39;00m \u001b[39mIPython\u001b[39;00m\u001b[39m.\u001b[39;00m\u001b[39mdisplay\u001b[39;00m \u001b[39mimport\u001b[39;00m display \u001b[39m# Allows the use of display() for DataFrames\u001b[39;00m\n",
            "File \u001b[1;32mc:\\Users\\WAIYAKI\\AppData\\Local\\Programs\\Python\\Python310\\lib\\site-packages\\nltk\\corpus\\util.py:121\u001b[0m, in \u001b[0;36mLazyCorpusLoader.__getattr__\u001b[1;34m(self, attr)\u001b[0m\n\u001b[0;32m    118\u001b[0m \u001b[39mif\u001b[39;00m attr \u001b[39m==\u001b[39m \u001b[39m\"\u001b[39m\u001b[39m__bases__\u001b[39m\u001b[39m\"\u001b[39m:\n\u001b[0;32m    119\u001b[0m     \u001b[39mraise\u001b[39;00m \u001b[39mAttributeError\u001b[39;00m(\u001b[39m\"\u001b[39m\u001b[39mLazyCorpusLoader object has no attribute \u001b[39m\u001b[39m'\u001b[39m\u001b[39m__bases__\u001b[39m\u001b[39m'\u001b[39m\u001b[39m\"\u001b[39m)\n\u001b[1;32m--> 121\u001b[0m \u001b[39mself\u001b[39;49m\u001b[39m.\u001b[39;49m__load()\n\u001b[0;32m    122\u001b[0m \u001b[39m# This looks circular, but its not, since __load() changes our\u001b[39;00m\n\u001b[0;32m    123\u001b[0m \u001b[39m# __class__ to something new:\u001b[39;00m\n\u001b[0;32m    124\u001b[0m \u001b[39mreturn\u001b[39;00m \u001b[39mgetattr\u001b[39m(\u001b[39mself\u001b[39m, attr)\n",
            "File \u001b[1;32mc:\\Users\\WAIYAKI\\AppData\\Local\\Programs\\Python\\Python310\\lib\\site-packages\\nltk\\corpus\\util.py:86\u001b[0m, in \u001b[0;36mLazyCorpusLoader.__load\u001b[1;34m(self)\u001b[0m\n\u001b[0;32m     84\u001b[0m             root \u001b[39m=\u001b[39m nltk\u001b[39m.\u001b[39mdata\u001b[39m.\u001b[39mfind(\u001b[39mf\u001b[39m\u001b[39m\"\u001b[39m\u001b[39m{\u001b[39;00m\u001b[39mself\u001b[39m\u001b[39m.\u001b[39msubdir\u001b[39m}\u001b[39;00m\u001b[39m/\u001b[39m\u001b[39m{\u001b[39;00mzip_name\u001b[39m}\u001b[39;00m\u001b[39m\"\u001b[39m)\n\u001b[0;32m     85\u001b[0m         \u001b[39mexcept\u001b[39;00m \u001b[39mLookupError\u001b[39;00m:\n\u001b[1;32m---> 86\u001b[0m             \u001b[39mraise\u001b[39;00m e\n\u001b[0;32m     88\u001b[0m \u001b[39m# Load the corpus.\u001b[39;00m\n\u001b[0;32m     89\u001b[0m corpus \u001b[39m=\u001b[39m \u001b[39mself\u001b[39m\u001b[39m.\u001b[39m__reader_cls(root, \u001b[39m*\u001b[39m\u001b[39mself\u001b[39m\u001b[39m.\u001b[39m__args, \u001b[39m*\u001b[39m\u001b[39m*\u001b[39m\u001b[39mself\u001b[39m\u001b[39m.\u001b[39m__kwargs)\n",
            "File \u001b[1;32mc:\\Users\\WAIYAKI\\AppData\\Local\\Programs\\Python\\Python310\\lib\\site-packages\\nltk\\corpus\\util.py:81\u001b[0m, in \u001b[0;36mLazyCorpusLoader.__load\u001b[1;34m(self)\u001b[0m\n\u001b[0;32m     79\u001b[0m \u001b[39melse\u001b[39;00m:\n\u001b[0;32m     80\u001b[0m     \u001b[39mtry\u001b[39;00m:\n\u001b[1;32m---> 81\u001b[0m         root \u001b[39m=\u001b[39m nltk\u001b[39m.\u001b[39;49mdata\u001b[39m.\u001b[39;49mfind(\u001b[39mf\u001b[39;49m\u001b[39m\"\u001b[39;49m\u001b[39m{\u001b[39;49;00m\u001b[39mself\u001b[39;49m\u001b[39m.\u001b[39;49msubdir\u001b[39m}\u001b[39;49;00m\u001b[39m/\u001b[39;49m\u001b[39m{\u001b[39;49;00m\u001b[39mself\u001b[39;49m\u001b[39m.\u001b[39;49m__name\u001b[39m}\u001b[39;49;00m\u001b[39m\"\u001b[39;49m)\n\u001b[0;32m     82\u001b[0m     \u001b[39mexcept\u001b[39;00m \u001b[39mLookupError\u001b[39;00m \u001b[39mas\u001b[39;00m e:\n\u001b[0;32m     83\u001b[0m         \u001b[39mtry\u001b[39;00m:\n",
            "File \u001b[1;32mc:\\Users\\WAIYAKI\\AppData\\Local\\Programs\\Python\\Python310\\lib\\site-packages\\nltk\\data.py:583\u001b[0m, in \u001b[0;36mfind\u001b[1;34m(resource_name, paths)\u001b[0m\n\u001b[0;32m    581\u001b[0m sep \u001b[39m=\u001b[39m \u001b[39m\"\u001b[39m\u001b[39m*\u001b[39m\u001b[39m\"\u001b[39m \u001b[39m*\u001b[39m \u001b[39m70\u001b[39m\n\u001b[0;32m    582\u001b[0m resource_not_found \u001b[39m=\u001b[39m \u001b[39mf\u001b[39m\u001b[39m\"\u001b[39m\u001b[39m\\n\u001b[39;00m\u001b[39m{\u001b[39;00msep\u001b[39m}\u001b[39;00m\u001b[39m\\n\u001b[39;00m\u001b[39m{\u001b[39;00mmsg\u001b[39m}\u001b[39;00m\u001b[39m\\n\u001b[39;00m\u001b[39m{\u001b[39;00msep\u001b[39m}\u001b[39;00m\u001b[39m\\n\u001b[39;00m\u001b[39m\"\u001b[39m\n\u001b[1;32m--> 583\u001b[0m \u001b[39mraise\u001b[39;00m \u001b[39mLookupError\u001b[39;00m(resource_not_found)\n",
            "\u001b[1;31mLookupError\u001b[0m: \n**********************************************************************\n  Resource \u001b[93mstopwords\u001b[0m not found.\n  Please use the NLTK Downloader to obtain the resource:\n\n  \u001b[31m>>> import nltk\n  >>> nltk.download('stopwords')\n  \u001b[0m\n  For more information see: https://www.nltk.org/data.html\n\n  Attempted to load \u001b[93mcorpora/stopwords\u001b[0m\n\n  Searched in:\n    - 'C:\\\\Users\\\\WAIYAKI/nltk_data'\n    - 'c:\\\\Users\\\\WAIYAKI\\\\AppData\\\\Local\\\\Programs\\\\Python\\\\Python310\\\\nltk_data'\n    - 'c:\\\\Users\\\\WAIYAKI\\\\AppData\\\\Local\\\\Programs\\\\Python\\\\Python310\\\\share\\\\nltk_data'\n    - 'c:\\\\Users\\\\WAIYAKI\\\\AppData\\\\Local\\\\Programs\\\\Python\\\\Python310\\\\lib\\\\nltk_data'\n    - 'C:\\\\Users\\\\WAIYAKI\\\\AppData\\\\Roaming\\\\nltk_data'\n    - 'C:\\\\nltk_data'\n    - 'D:\\\\nltk_data'\n    - 'E:\\\\nltk_data'\n**********************************************************************\n"
          ]
        }
      ],
      "source": [
        "# Importing the required files.\n",
        "from __future__ import print_function\n",
        "import matplotlib.pyplot as plt\n",
        "import numpy as np\n",
        "import os\n",
        "import sys\n",
        "import pandas as pd\n",
        "import string\n",
        "from time import time\n",
        "import nltk\n",
        "nltk.download()\n",
        "from nltk.corpus import stopwords \n",
        "stops = set(stopwords.words(\"english\"))\n",
        "\n",
        "import re\n",
        "from IPython.display import display # Allows the use of display() for DataFrames\n",
        "import warnings\n",
        "warnings.filterwarnings('ignore')\n",
        "\n",
        "%matplotlib inline\n",
        "RAN_STATE = 42 # Setting the random state"
      ]
    },
    {
      "cell_type": "markdown",
      "metadata": {
        "id": "KVRW4amX8iFK",
        "papermill": {
          "duration": 0.048078,
          "end_time": "2021-03-26T05:39:25.316449",
          "exception": false,
          "start_time": "2021-03-26T05:39:25.268371",
          "status": "completed"
        },
        "tags": []
      },
      "source": [
        "We will now read the data.\n",
        "\n",
        "The dataset is a JSON file so we are using the read_json() function of Pandas. We have used *lines=True*  to read the file as a JSON object per line, else it will give an error.\n"
      ]
    },
    {
      "cell_type": "code",
      "execution_count": 3,
      "metadata": {
        "colab": {
          "base_uri": "https://localhost:8080/",
          "height": 337
        },
        "execution": {
          "iopub.execute_input": "2021-03-26T05:39:25.417838Z",
          "iopub.status.busy": "2021-03-26T05:39:25.417034Z",
          "iopub.status.idle": "2021-03-26T05:40:21.858977Z",
          "shell.execute_reply": "2021-03-26T05:40:21.859533Z"
        },
        "id": "l6CO8w2C8iFL",
        "outputId": "bc709843-0053-4de0-867b-80d406f07f66",
        "papermill": {
          "duration": 56.496351,
          "end_time": "2021-03-26T05:40:21.859730",
          "exception": false,
          "start_time": "2021-03-26T05:39:25.363379",
          "status": "completed"
        },
        "tags": []
      },
      "outputs": [
        {
          "data": {
            "text/html": [
              "<div>\n",
              "<style scoped>\n",
              "    .dataframe tbody tr th:only-of-type {\n",
              "        vertical-align: middle;\n",
              "    }\n",
              "\n",
              "    .dataframe tbody tr th {\n",
              "        vertical-align: top;\n",
              "    }\n",
              "\n",
              "    .dataframe thead th {\n",
              "        text-align: right;\n",
              "    }\n",
              "</style>\n",
              "<table border=\"1\" class=\"dataframe\">\n",
              "  <thead>\n",
              "    <tr style=\"text-align: right;\">\n",
              "      <th></th>\n",
              "      <th>reviewerID</th>\n",
              "      <th>asin</th>\n",
              "      <th>reviewerName</th>\n",
              "      <th>helpful</th>\n",
              "      <th>reviewText</th>\n",
              "      <th>overall</th>\n",
              "      <th>summary</th>\n",
              "      <th>unixReviewTime</th>\n",
              "      <th>reviewTime</th>\n",
              "    </tr>\n",
              "  </thead>\n",
              "  <tbody>\n",
              "    <tr>\n",
              "      <th>0</th>\n",
              "      <td>AO94DHGC771SJ</td>\n",
              "      <td>0528881469</td>\n",
              "      <td>amazdnu</td>\n",
              "      <td>[0, 0]</td>\n",
              "      <td>We got this GPS for my husband who is an (OTR)...</td>\n",
              "      <td>5</td>\n",
              "      <td>Gotta have GPS!</td>\n",
              "      <td>1370131200</td>\n",
              "      <td>06 2, 2013</td>\n",
              "    </tr>\n",
              "    <tr>\n",
              "      <th>1</th>\n",
              "      <td>AMO214LNFCEI4</td>\n",
              "      <td>0528881469</td>\n",
              "      <td>Amazon Customer</td>\n",
              "      <td>[12, 15]</td>\n",
              "      <td>I'm a professional OTR truck driver, and I bou...</td>\n",
              "      <td>1</td>\n",
              "      <td>Very Disappointed</td>\n",
              "      <td>1290643200</td>\n",
              "      <td>11 25, 2010</td>\n",
              "    </tr>\n",
              "    <tr>\n",
              "      <th>2</th>\n",
              "      <td>A3N7T0DY83Y4IG</td>\n",
              "      <td>0528881469</td>\n",
              "      <td>C. A. Freeman</td>\n",
              "      <td>[43, 45]</td>\n",
              "      <td>Well, what can I say.  I've had this unit in m...</td>\n",
              "      <td>3</td>\n",
              "      <td>1st impression</td>\n",
              "      <td>1283990400</td>\n",
              "      <td>09 9, 2010</td>\n",
              "    </tr>\n",
              "    <tr>\n",
              "      <th>3</th>\n",
              "      <td>A1H8PY3QHMQQA0</td>\n",
              "      <td>0528881469</td>\n",
              "      <td>Dave M. Shaw \"mack dave\"</td>\n",
              "      <td>[9, 10]</td>\n",
              "      <td>Not going to write a long review, even thought...</td>\n",
              "      <td>2</td>\n",
              "      <td>Great grafics, POOR GPS</td>\n",
              "      <td>1290556800</td>\n",
              "      <td>11 24, 2010</td>\n",
              "    </tr>\n",
              "    <tr>\n",
              "      <th>4</th>\n",
              "      <td>A24EV6RXELQZ63</td>\n",
              "      <td>0528881469</td>\n",
              "      <td>Wayne Smith</td>\n",
              "      <td>[0, 0]</td>\n",
              "      <td>I've had mine for a year and here's what we go...</td>\n",
              "      <td>1</td>\n",
              "      <td>Major issues, only excuses for support</td>\n",
              "      <td>1317254400</td>\n",
              "      <td>09 29, 2011</td>\n",
              "    </tr>\n",
              "  </tbody>\n",
              "</table>\n",
              "</div>"
            ],
            "text/plain": [
              "       reviewerID        asin              reviewerName   helpful  \\\n",
              "0   AO94DHGC771SJ  0528881469                   amazdnu    [0, 0]   \n",
              "1   AMO214LNFCEI4  0528881469           Amazon Customer  [12, 15]   \n",
              "2  A3N7T0DY83Y4IG  0528881469             C. A. Freeman  [43, 45]   \n",
              "3  A1H8PY3QHMQQA0  0528881469  Dave M. Shaw \"mack dave\"   [9, 10]   \n",
              "4  A24EV6RXELQZ63  0528881469               Wayne Smith    [0, 0]   \n",
              "\n",
              "                                          reviewText  overall  \\\n",
              "0  We got this GPS for my husband who is an (OTR)...        5   \n",
              "1  I'm a professional OTR truck driver, and I bou...        1   \n",
              "2  Well, what can I say.  I've had this unit in m...        3   \n",
              "3  Not going to write a long review, even thought...        2   \n",
              "4  I've had mine for a year and here's what we go...        1   \n",
              "\n",
              "                                  summary  unixReviewTime   reviewTime  \n",
              "0                         Gotta have GPS!      1370131200   06 2, 2013  \n",
              "1                       Very Disappointed      1290643200  11 25, 2010  \n",
              "2                          1st impression      1283990400   09 9, 2010  \n",
              "3                 Great grafics, POOR GPS      1290556800  11 24, 2010  \n",
              "4  Major issues, only excuses for support      1317254400  09 29, 2011  "
            ]
          },
          "execution_count": 3,
          "metadata": {},
          "output_type": "execute_result"
        }
      ],
      "source": [
        "# Read json data\n",
        "data=pd.read_json('Electronics_5.json',lines=True,orient='columns')\n",
        "data.head()"
      ]
    },
    {
      "cell_type": "markdown",
      "metadata": {
        "id": "eC_cnGeq8iFM",
        "papermill": {
          "duration": 0.045485,
          "end_time": "2021-03-26T05:40:21.953038",
          "exception": false,
          "start_time": "2021-03-26T05:40:21.907553",
          "status": "completed"
        },
        "tags": []
      },
      "source": [
        "Since our reviews may also contain duplicates, we are using the drop_duplicate() function to remove duplicates."
      ]
    },
    {
      "cell_type": "code",
      "execution_count": null,
      "metadata": {
        "colab": {
          "base_uri": "https://localhost:8080/"
        },
        "execution": {
          "iopub.execute_input": "2021-03-26T05:40:22.186540Z",
          "iopub.status.busy": "2021-03-26T05:40:22.185786Z",
          "iopub.status.idle": "2021-03-26T05:40:27.723475Z",
          "shell.execute_reply": "2021-03-26T05:40:27.721990Z"
        },
        "id": "4aL38lnK8iFN",
        "outputId": "90e6017c-645b-47e3-da0a-0d456956273b",
        "papermill": {
          "duration": 5.723417,
          "end_time": "2021-03-26T05:40:27.723764",
          "exception": false,
          "start_time": "2021-03-26T05:40:22.000347",
          "status": "completed"
        },
        "tags": []
      },
      "outputs": [
        {
          "name": "stdout",
          "output_type": "stream",
          "text": [
            "The shape of the data set before removing duplicate reviews : (3548, 9)\n",
            "The shape of the data set after removing duplicate reviews : (3545, 9)\n"
          ]
        }
      ],
      "source": [
        "# Remove duplicate reviews(if any)\n",
        "print(\"The shape of the data set before removing duplicate reviews : {}\".format(data.shape))\n",
        "data=data.drop_duplicates(subset=[\"reviewText\"], keep='first', inplace=False)\n",
        "print(\"The shape of the data set after removing duplicate reviews : {}\".format(data.shape))"
      ]
    },
    {
      "cell_type": "markdown",
      "metadata": {
        "id": "hCe4IV9E8iFO",
        "papermill": {
          "duration": 0.048789,
          "end_time": "2021-03-26T05:40:27.829736",
          "exception": false,
          "start_time": "2021-03-26T05:40:27.780947",
          "status": "completed"
        },
        "tags": []
      },
      "source": [
        "As we can see, our data did have duplicate reviews. Now let's go-to text preprocessing."
      ]
    },
    {
      "cell_type": "markdown",
      "metadata": {
        "id": "mhwnRsrP8iFO",
        "papermill": {
          "duration": 0.060829,
          "end_time": "2021-03-26T05:40:27.938984",
          "exception": false,
          "start_time": "2021-03-26T05:40:27.878155",
          "status": "completed"
        },
        "tags": []
      },
      "source": [
        "# Text Preprocessing"
      ]
    },
    {
      "cell_type": "markdown",
      "metadata": {
        "id": "ZBVgf3zn8iFP",
        "papermill": {
          "duration": 0.056199,
          "end_time": "2021-03-26T05:40:28.056506",
          "exception": false,
          "start_time": "2021-03-26T05:40:28.000307",
          "status": "completed"
        },
        "tags": []
      },
      "source": [
        "Since we are having two problem statements, both of which require the same kind of preprocessing, we are going to preprocess before starting with the problem statements."
      ]
    },
    {
      "cell_type": "code",
      "execution_count": null,
      "metadata": {
        "execution": {
          "iopub.execute_input": "2021-03-26T05:40:28.164788Z",
          "iopub.status.busy": "2021-03-26T05:40:28.163654Z",
          "iopub.status.idle": "2021-03-26T05:40:28.167090Z",
          "shell.execute_reply": "2021-03-26T05:40:28.166579Z"
        },
        "id": "yBCZRK3I8iFQ",
        "papermill": {
          "duration": 0.062218,
          "end_time": "2021-03-26T05:40:28.167241",
          "exception": false,
          "start_time": "2021-03-26T05:40:28.105023",
          "status": "completed"
        },
        "tags": []
      },
      "outputs": [],
      "source": [
        "def preprocess(x):\n",
        "    x = x.replace(\",000,000\", \" m\").replace(\",000\", \" k\").replace(\"′\", \"'\").replace(\"’\", \"'\")\\\n",
        "                           .replace(\"won't\", \" will not\").replace(\"cannot\", \" can not\").replace(\"can't\", \" can not\")\\\n",
        "                           .replace(\"n't\", \" not\").replace(\"what's\", \" what is\").replace(\"it's\", \" it is\")\\\n",
        "                           .replace(\"'ve\", \" have\").replace(\"'m\", \" am\").replace(\"'re\", \" are\")\\\n",
        "                           .replace(\"he's\", \" he is\").replace(\"she's\", \" she is\").replace(\"'s\", \" own\")\\\n",
        "                           .replace(\"%\", \" percent \").replace(\"₹\", \" rupee \").replace(\"$\", \" dollar \")\\\n",
        "                           .replace(\"€\", \" euro \").replace(\"'ll\", \" will\").replace(\"how's\",\" how has\").replace(\"y'all\",\" you all\")\\\n",
        "                           .replace(\"o'clock\",\" of the clock\").replace(\"ne'er\",\" never\").replace(\"let's\",\" let us\")\\\n",
        "                           .replace(\"finna\",\" fixing to\").replace(\"gonna\",\" going to\").replace(\"gimme\",\" give me\").replace(\"gotta\",\" got to\").replace(\"'d\",\" would\")\\\n",
        "                           .replace(\"daresn't\",\" dare not\").replace(\"dasn't\",\" dare not\").replace(\"e'er\",\" ever\").replace(\"everyone's\",\" everyone is\")\\\n",
        "                           .replace(\"'cause'\",\" because\").replace(\"i'm\",\" i am\")\n",
        "    \n",
        "    x = re.sub(r\"([0-9]+)000000\", r\"\\1m\", x)\n",
        "    x = re.sub(r\"([0-9]+)000\", r\"\\1k\", x)\n",
        "    x=re.sub(r'((www\\.[^\\s]+)|(https?://[^\\s]+))',' ',x)\n",
        "    x=re.sub(r\"\\\\s*\\\\b(?=\\\\w*(\\\\w)\\\\1{2,})\\\\w*\\\\b\",' ',x)\n",
        "    x=re.sub(r'<.*?>',' ',x)\n",
        "    x=re.sub('[^a-zA-Z]',' ',x)\n",
        "    x=''.join([i for i in x if not i.isdigit()])\n",
        "    return x"
      ]
    },
    {
      "cell_type": "markdown",
      "metadata": {
        "id": "VPcOhlmn8iFR",
        "papermill": {
          "duration": 0.046572,
          "end_time": "2021-03-26T05:40:28.264872",
          "exception": false,
          "start_time": "2021-03-26T05:40:28.218300",
          "status": "completed"
        },
        "tags": []
      },
      "source": [
        "Here we are going to first convert reviews to lowercase. Then we are going to do preprocessing. And finally, go to lemmatization.\n",
        "\n",
        "Here we could also use stemming but I am going to use lemmatization.\n",
        "\n",
        "> **Stemming:** Stemming is a process of extracting a root word. For example, “fish,” “fishes,” and “fishing” are stemmed into fish.\n",
        "> \n",
        "> **Lemmatization:** Lemmatization is a process of extracting a root word by considering the vocabulary. For example, “good,” “better,” or “best” is lemmatized into good. The part of speech of a word is determined in lemmatization. It will return the dictionary form of a word, which must be valid while stemming just extracts the root word.\n",
        "\n",
        "*Lemmatization handles matching “car” to “cars” along with matching “car” to “automobile.”*\n",
        "\n",
        "*Stemming handles matching “car” to “cars.”*\n"
      ]
    },
    {
      "cell_type": "code",
      "execution_count": null,
      "metadata": {
        "colab": {
          "base_uri": "https://localhost:8080/"
        },
        "execution": {
          "iopub.execute_input": "2021-03-26T05:40:28.372017Z",
          "iopub.status.busy": "2021-03-26T05:40:28.371269Z",
          "iopub.status.idle": "2021-03-26T06:17:32.324044Z",
          "shell.execute_reply": "2021-03-26T06:17:32.324692Z"
        },
        "id": "OR4vCE3Y8iFS",
        "outputId": "1dcd93a7-0649-444a-ebd3-67639d13ec0b",
        "papermill": {
          "duration": 2224.010722,
          "end_time": "2021-03-26T06:17:32.325051",
          "exception": false,
          "start_time": "2021-03-26T05:40:28.314329",
          "status": "completed"
        },
        "tags": []
      },
      "outputs": [
        {
          "data": {
            "text/plain": [
              "0    we got this gps for my husband who is an otr o...\n",
              "1    im a professional otr truck driver and i bough...\n",
              "2    well what can i say ive had this unit in my tr...\n",
              "3    not going to write a long review even thought ...\n",
              "4    ive had mine for a year and here what we got i...\n",
              "Name: reviewText, dtype: object"
            ]
          },
          "execution_count": 9,
          "metadata": {},
          "output_type": "execute_result"
        }
      ],
      "source": [
        "# Import libraries\n",
        "from nltk.corpus import stopwords\n",
        "from textblob import TextBlob\n",
        "from textblob import Word\n",
        "\n",
        "# Lower casing and removing punctuations\n",
        "data['reviewText'] = data['reviewText'].apply(lambda x: \" \".join(x.lower() for x in x.split()))\n",
        "data['reviewText'] = data['reviewText'].str.replace('[^\\w\\s]','')\n",
        "\n",
        "# Removing stopwords\n",
        "#stop = stopwords.words('english')\n",
        "#data['reviewText'] = data['reviewText'].apply(lambda x: \" \".join(x for x in x.split() if x not in stop))\n",
        "data['reviewText'] = data['reviewText'].apply(lambda x: preprocess(x))\n",
        "# Lemmatization\n",
        "\n",
        "data['reviewText'] = data['reviewText'].apply(lambda x: \" \".join([Word(word).lemmatize() for word in x.split()]))\n",
        "data.reviewText.head(5)"
      ]
    },
    {
      "cell_type": "markdown",
      "metadata": {
        "id": "7IRkCRlL8iFT",
        "papermill": {
          "duration": 0.049309,
          "end_time": "2021-03-26T06:17:32.426567",
          "exception": false,
          "start_time": "2021-03-26T06:17:32.377258",
          "status": "completed"
        },
        "tags": []
      },
      "source": [
        "Now, let's start with problem statements."
      ]
    },
    {
      "cell_type": "markdown",
      "metadata": {
        "id": "JOFSlFWw8iFT",
        "papermill": {
          "duration": 0.049534,
          "end_time": "2021-03-26T06:17:32.525926",
          "exception": false,
          "start_time": "2021-03-26T06:17:32.476392",
          "status": "completed"
        },
        "tags": []
      },
      "source": []
    },
    {
      "cell_type": "markdown",
      "metadata": {
        "id": "VI9fWNzG8iFT",
        "papermill": {
          "duration": 0.048864,
          "end_time": "2021-03-26T06:17:32.625477",
          "exception": false,
          "start_time": "2021-03-26T06:17:32.576613",
          "status": "completed"
        },
        "tags": []
      },
      "source": [
        "A Rough Overview\n",
        "--\n",
        "Marketing is an essential part of the business. \n",
        "Digital marketing was already in hype for the past few years, but due to this pandemic, it has increased exponentially. \n",
        "Since a customer cannot physically check the product, he/she has to depend on reviews of the given product. \n",
        "\n",
        "Amazon has a helpfulness rating system, that allows users to see top-rated reviews which can help a customer to make an informed decision. \n",
        "\n",
        "But even if this helps, poor-quality reviews can still come on top of forums.\n",
        "\n",
        "Having poor quality reviews displayed in forums hurts Amazon’s business since the major reason as stated above is that people are willing to buy consumer goods online without seeing the items themselves because they have access to other people's opinions of the item. "
      ]
    },
    {
      "cell_type": "markdown",
      "metadata": {
        "id": "S3-gvAxp8iFU",
        "papermill": {
          "duration": 0.050485,
          "end_time": "2021-03-26T06:17:32.727483",
          "exception": false,
          "start_time": "2021-03-26T06:17:32.676998",
          "status": "completed"
        },
        "tags": []
      },
      "source": [
        "Problem Statement\n",
        "--\n",
        "The problem addressed here is Amazon Reviews of poor quality that are there, at the top of forums despite the helpfulness rating system of Amazon. \n",
        "This problem mainly arises due to the new reviews are directly placed on top of the forum which would give the community a chance to rate them.\n",
        "\n",
        "The solution to this problem is to create a model using machine learning techniques that would pre-rate the helpfulness of a given customer review before they are posted on the top of the forum. \n",
        "This way poor quality reviews would not be shown on top of forums.\n",
        "\n",
        "The model will be trained on Amazon Reviews for Electronic Category to predict if a given review is helpful or not helpful."
      ]
    },
    {
      "cell_type": "markdown",
      "metadata": {
        "id": "d0OmVGWp8iFU",
        "papermill": {
          "duration": 0.049698,
          "end_time": "2021-03-26T06:17:32.826868",
          "exception": false,
          "start_time": "2021-03-26T06:17:32.777170",
          "status": "completed"
        },
        "tags": []
      },
      "source": [
        "Let's see the given data."
      ]
    },
    {
      "cell_type": "code",
      "execution_count": null,
      "metadata": {
        "colab": {
          "base_uri": "https://localhost:8080/",
          "height": 206
        },
        "execution": {
          "iopub.execute_input": "2021-03-26T06:17:32.955919Z",
          "iopub.status.busy": "2021-03-26T06:17:32.954763Z",
          "iopub.status.idle": "2021-03-26T06:17:32.962967Z",
          "shell.execute_reply": "2021-03-26T06:17:32.963880Z"
        },
        "id": "w6VINd828iFV",
        "outputId": "1d0e217e-714c-4b10-8336-691f432f478b",
        "papermill": {
          "duration": 0.083237,
          "end_time": "2021-03-26T06:17:32.964498",
          "exception": false,
          "start_time": "2021-03-26T06:17:32.881261",
          "status": "completed"
        },
        "tags": []
      },
      "outputs": [
        {
          "data": {
            "text/html": [
              "\n",
              "  <div id=\"df-4ea7ce4b-1675-47df-8d56-e00bc8d1fb17\">\n",
              "    <div class=\"colab-df-container\">\n",
              "      <div>\n",
              "<style scoped>\n",
              "    .dataframe tbody tr th:only-of-type {\n",
              "        vertical-align: middle;\n",
              "    }\n",
              "\n",
              "    .dataframe tbody tr th {\n",
              "        vertical-align: top;\n",
              "    }\n",
              "\n",
              "    .dataframe thead th {\n",
              "        text-align: right;\n",
              "    }\n",
              "</style>\n",
              "<table border=\"1\" class=\"dataframe\">\n",
              "  <thead>\n",
              "    <tr style=\"text-align: right;\">\n",
              "      <th></th>\n",
              "      <th>reviewerID</th>\n",
              "      <th>asin</th>\n",
              "      <th>reviewerName</th>\n",
              "      <th>helpful</th>\n",
              "      <th>reviewText</th>\n",
              "      <th>overall</th>\n",
              "      <th>summary</th>\n",
              "      <th>unixReviewTime</th>\n",
              "      <th>reviewTime</th>\n",
              "    </tr>\n",
              "  </thead>\n",
              "  <tbody>\n",
              "    <tr>\n",
              "      <th>0</th>\n",
              "      <td>AO94DHGC771SJ</td>\n",
              "      <td>0528881469</td>\n",
              "      <td>amazdnu</td>\n",
              "      <td>[0, 0]</td>\n",
              "      <td>we got this gps for my husband who is an otr o...</td>\n",
              "      <td>5</td>\n",
              "      <td>Gotta have GPS!</td>\n",
              "      <td>1370131200</td>\n",
              "      <td>06 2, 2013</td>\n",
              "    </tr>\n",
              "    <tr>\n",
              "      <th>1</th>\n",
              "      <td>AMO214LNFCEI4</td>\n",
              "      <td>0528881469</td>\n",
              "      <td>Amazon Customer</td>\n",
              "      <td>[12, 15]</td>\n",
              "      <td>im a professional otr truck driver and i bough...</td>\n",
              "      <td>1</td>\n",
              "      <td>Very Disappointed</td>\n",
              "      <td>1290643200</td>\n",
              "      <td>11 25, 2010</td>\n",
              "    </tr>\n",
              "    <tr>\n",
              "      <th>2</th>\n",
              "      <td>A3N7T0DY83Y4IG</td>\n",
              "      <td>0528881469</td>\n",
              "      <td>C. A. Freeman</td>\n",
              "      <td>[43, 45]</td>\n",
              "      <td>well what can i say ive had this unit in my tr...</td>\n",
              "      <td>3</td>\n",
              "      <td>1st impression</td>\n",
              "      <td>1283990400</td>\n",
              "      <td>09 9, 2010</td>\n",
              "    </tr>\n",
              "    <tr>\n",
              "      <th>3</th>\n",
              "      <td>A1H8PY3QHMQQA0</td>\n",
              "      <td>0528881469</td>\n",
              "      <td>Dave M. Shaw \"mack dave\"</td>\n",
              "      <td>[9, 10]</td>\n",
              "      <td>not going to write a long review even thought ...</td>\n",
              "      <td>2</td>\n",
              "      <td>Great grafics, POOR GPS</td>\n",
              "      <td>1290556800</td>\n",
              "      <td>11 24, 2010</td>\n",
              "    </tr>\n",
              "    <tr>\n",
              "      <th>4</th>\n",
              "      <td>A24EV6RXELQZ63</td>\n",
              "      <td>0528881469</td>\n",
              "      <td>Wayne Smith</td>\n",
              "      <td>[0, 0]</td>\n",
              "      <td>ive had mine for a year and here what we got i...</td>\n",
              "      <td>1</td>\n",
              "      <td>Major issues, only excuses for support</td>\n",
              "      <td>1317254400</td>\n",
              "      <td>09 29, 2011</td>\n",
              "    </tr>\n",
              "  </tbody>\n",
              "</table>\n",
              "</div>\n",
              "      <button class=\"colab-df-convert\" onclick=\"convertToInteractive('df-4ea7ce4b-1675-47df-8d56-e00bc8d1fb17')\"\n",
              "              title=\"Convert this dataframe to an interactive table.\"\n",
              "              style=\"display:none;\">\n",
              "        \n",
              "  <svg xmlns=\"http://www.w3.org/2000/svg\" height=\"24px\"viewBox=\"0 0 24 24\"\n",
              "       width=\"24px\">\n",
              "    <path d=\"M0 0h24v24H0V0z\" fill=\"none\"/>\n",
              "    <path d=\"M18.56 5.44l.94 2.06.94-2.06 2.06-.94-2.06-.94-.94-2.06-.94 2.06-2.06.94zm-11 1L8.5 8.5l.94-2.06 2.06-.94-2.06-.94L8.5 2.5l-.94 2.06-2.06.94zm10 10l.94 2.06.94-2.06 2.06-.94-2.06-.94-.94-2.06-.94 2.06-2.06.94z\"/><path d=\"M17.41 7.96l-1.37-1.37c-.4-.4-.92-.59-1.43-.59-.52 0-1.04.2-1.43.59L10.3 9.45l-7.72 7.72c-.78.78-.78 2.05 0 2.83L4 21.41c.39.39.9.59 1.41.59.51 0 1.02-.2 1.41-.59l7.78-7.78 2.81-2.81c.8-.78.8-2.07 0-2.86zM5.41 20L4 18.59l7.72-7.72 1.47 1.35L5.41 20z\"/>\n",
              "  </svg>\n",
              "      </button>\n",
              "      \n",
              "  <style>\n",
              "    .colab-df-container {\n",
              "      display:flex;\n",
              "      flex-wrap:wrap;\n",
              "      gap: 12px;\n",
              "    }\n",
              "\n",
              "    .colab-df-convert {\n",
              "      background-color: #E8F0FE;\n",
              "      border: none;\n",
              "      border-radius: 50%;\n",
              "      cursor: pointer;\n",
              "      display: none;\n",
              "      fill: #1967D2;\n",
              "      height: 32px;\n",
              "      padding: 0 0 0 0;\n",
              "      width: 32px;\n",
              "    }\n",
              "\n",
              "    .colab-df-convert:hover {\n",
              "      background-color: #E2EBFA;\n",
              "      box-shadow: 0px 1px 2px rgba(60, 64, 67, 0.3), 0px 1px 3px 1px rgba(60, 64, 67, 0.15);\n",
              "      fill: #174EA6;\n",
              "    }\n",
              "\n",
              "    [theme=dark] .colab-df-convert {\n",
              "      background-color: #3B4455;\n",
              "      fill: #D2E3FC;\n",
              "    }\n",
              "\n",
              "    [theme=dark] .colab-df-convert:hover {\n",
              "      background-color: #434B5C;\n",
              "      box-shadow: 0px 1px 3px 1px rgba(0, 0, 0, 0.15);\n",
              "      filter: drop-shadow(0px 1px 2px rgba(0, 0, 0, 0.3));\n",
              "      fill: #FFFFFF;\n",
              "    }\n",
              "  </style>\n",
              "\n",
              "      <script>\n",
              "        const buttonEl =\n",
              "          document.querySelector('#df-4ea7ce4b-1675-47df-8d56-e00bc8d1fb17 button.colab-df-convert');\n",
              "        buttonEl.style.display =\n",
              "          google.colab.kernel.accessAllowed ? 'block' : 'none';\n",
              "\n",
              "        async function convertToInteractive(key) {\n",
              "          const element = document.querySelector('#df-4ea7ce4b-1675-47df-8d56-e00bc8d1fb17');\n",
              "          const dataTable =\n",
              "            await google.colab.kernel.invokeFunction('convertToInteractive',\n",
              "                                                     [key], {});\n",
              "          if (!dataTable) return;\n",
              "\n",
              "          const docLinkHtml = 'Like what you see? Visit the ' +\n",
              "            '<a target=\"_blank\" href=https://colab.research.google.com/notebooks/data_table.ipynb>data table notebook</a>'\n",
              "            + ' to learn more about interactive tables.';\n",
              "          element.innerHTML = '';\n",
              "          dataTable['output_type'] = 'display_data';\n",
              "          await google.colab.output.renderOutput(dataTable, element);\n",
              "          const docLink = document.createElement('div');\n",
              "          docLink.innerHTML = docLinkHtml;\n",
              "          element.appendChild(docLink);\n",
              "        }\n",
              "      </script>\n",
              "    </div>\n",
              "  </div>\n",
              "  "
            ],
            "text/plain": [
              "       reviewerID        asin              reviewerName   helpful  \\\n",
              "0   AO94DHGC771SJ  0528881469                   amazdnu    [0, 0]   \n",
              "1   AMO214LNFCEI4  0528881469           Amazon Customer  [12, 15]   \n",
              "2  A3N7T0DY83Y4IG  0528881469             C. A. Freeman  [43, 45]   \n",
              "3  A1H8PY3QHMQQA0  0528881469  Dave M. Shaw \"mack dave\"   [9, 10]   \n",
              "4  A24EV6RXELQZ63  0528881469               Wayne Smith    [0, 0]   \n",
              "\n",
              "                                          reviewText  overall  \\\n",
              "0  we got this gps for my husband who is an otr o...        5   \n",
              "1  im a professional otr truck driver and i bough...        1   \n",
              "2  well what can i say ive had this unit in my tr...        3   \n",
              "3  not going to write a long review even thought ...        2   \n",
              "4  ive had mine for a year and here what we got i...        1   \n",
              "\n",
              "                                  summary  unixReviewTime   reviewTime  \n",
              "0                         Gotta have GPS!      1370131200   06 2, 2013  \n",
              "1                       Very Disappointed      1290643200  11 25, 2010  \n",
              "2                          1st impression      1283990400   09 9, 2010  \n",
              "3                 Great grafics, POOR GPS      1290556800  11 24, 2010  \n",
              "4  Major issues, only excuses for support      1317254400  09 29, 2011  "
            ]
          },
          "execution_count": 10,
          "metadata": {},
          "output_type": "execute_result"
        }
      ],
      "source": [
        "data.head()"
      ]
    },
    {
      "cell_type": "markdown",
      "metadata": {
        "id": "tjRMYV5g8iFV",
        "papermill": {
          "duration": 0.050089,
          "end_time": "2021-03-26T06:17:33.067443",
          "exception": false,
          "start_time": "2021-03-26T06:17:33.017354",
          "status": "completed"
        },
        "tags": []
      },
      "source": [
        "**Based on the above data we can say:**\n",
        "> Input Features : reviewText,overall\n",
        "\n",
        "> Output labels: helpfulness\n",
        "\n",
        "**Reason for selecting input features:** When we give any review, along with text(reviewText) of the review we also give a rating in stars(overall).\n",
        "\n",
        "**A brief explanation about the helpful column:** helpful column given above is a list containing two values---no of helpful ratings and the total no of ratings--- separated by a comma.\n",
        "\n",
        "We are dividing the helpful column into two parts i.e. \n",
        " \n",
        " > helpful_numerator => contains no. of helpful rating.\n",
        " \n",
        " > helpful_denominator => contains total no. of ratings.\n",
        "\n",
        "and then we are deleting the helpful column.\n"
      ]
    },
    {
      "cell_type": "code",
      "execution_count": null,
      "metadata": {
        "colab": {
          "base_uri": "https://localhost:8080/"
        },
        "execution": {
          "iopub.execute_input": "2021-03-26T06:17:33.182752Z",
          "iopub.status.busy": "2021-03-26T06:17:33.182009Z",
          "iopub.status.idle": "2021-03-26T06:17:35.966208Z",
          "shell.execute_reply": "2021-03-26T06:17:35.965138Z"
        },
        "id": "nEUl_j1-8iFW",
        "outputId": "614416e2-092c-446b-8f43-8c65aefc6192",
        "papermill": {
          "duration": 2.849211,
          "end_time": "2021-03-26T06:17:35.966454",
          "exception": false,
          "start_time": "2021-03-26T06:17:33.117243",
          "status": "completed"
        },
        "tags": []
      },
      "outputs": [
        {
          "name": "stdout",
          "output_type": "stream",
          "text": [
            "overall                0\n",
            "reviewText             0\n",
            "helpful_numerator      0\n",
            "helpful_denominator    0\n",
            "dtype: int64\n"
          ]
        }
      ],
      "source": [
        "#select the columns\n",
        "df = data.iloc[:, [5,4,3]]\n",
        "\n",
        "#split numerator and denominator\n",
        "df['helpful_numerator'] = df['helpful'].apply(lambda x: x[0])\n",
        "df['helpful_denominator'] = df['helpful'].apply(lambda x: x[1])\n",
        "\n",
        "# delete un-needed helpful column\n",
        "del df['helpful']\n",
        "\n",
        "#Check if we have any null values\n",
        "print (df.isnull().sum())"
      ]
    },
    {
      "cell_type": "markdown",
      "metadata": {
        "id": "ysMEiPiu8iFX",
        "papermill": {
          "duration": 0.052237,
          "end_time": "2021-03-26T06:17:36.066982",
          "exception": false,
          "start_time": "2021-03-26T06:17:36.014745",
          "status": "completed"
        },
        "tags": []
      },
      "source": [
        "Let's see some stats."
      ]
    },
    {
      "cell_type": "code",
      "execution_count": null,
      "metadata": {
        "colab": {
          "base_uri": "https://localhost:8080/",
          "height": 300
        },
        "execution": {
          "iopub.execute_input": "2021-03-26T06:17:36.178990Z",
          "iopub.status.busy": "2021-03-26T06:17:36.178014Z",
          "iopub.status.idle": "2021-03-26T06:17:36.367759Z",
          "shell.execute_reply": "2021-03-26T06:17:36.366929Z"
        },
        "id": "IH3CeYS88iFX",
        "outputId": "d898c8cc-f590-4469-dad1-0d29555091cb",
        "papermill": {
          "duration": 0.252609,
          "end_time": "2021-03-26T06:17:36.368451",
          "exception": false,
          "start_time": "2021-03-26T06:17:36.115842",
          "status": "completed"
        },
        "tags": []
      },
      "outputs": [
        {
          "data": {
            "text/html": [
              "\n",
              "  <div id=\"df-b08c804e-6def-41db-a480-02f864228fc6\">\n",
              "    <div class=\"colab-df-container\">\n",
              "      <div>\n",
              "<style scoped>\n",
              "    .dataframe tbody tr th:only-of-type {\n",
              "        vertical-align: middle;\n",
              "    }\n",
              "\n",
              "    .dataframe tbody tr th {\n",
              "        vertical-align: top;\n",
              "    }\n",
              "\n",
              "    .dataframe thead th {\n",
              "        text-align: right;\n",
              "    }\n",
              "</style>\n",
              "<table border=\"1\" class=\"dataframe\">\n",
              "  <thead>\n",
              "    <tr style=\"text-align: right;\">\n",
              "      <th></th>\n",
              "      <th>overall</th>\n",
              "      <th>helpful_numerator</th>\n",
              "      <th>helpful_denominator</th>\n",
              "    </tr>\n",
              "  </thead>\n",
              "  <tbody>\n",
              "    <tr>\n",
              "      <th>count</th>\n",
              "      <td>3545.000000</td>\n",
              "      <td>3545.000000</td>\n",
              "      <td>3545.000000</td>\n",
              "    </tr>\n",
              "    <tr>\n",
              "      <th>mean</th>\n",
              "      <td>4.202539</td>\n",
              "      <td>5.162482</td>\n",
              "      <td>5.882934</td>\n",
              "    </tr>\n",
              "    <tr>\n",
              "      <th>std</th>\n",
              "      <td>1.214865</td>\n",
              "      <td>21.162774</td>\n",
              "      <td>22.175134</td>\n",
              "    </tr>\n",
              "    <tr>\n",
              "      <th>min</th>\n",
              "      <td>1.000000</td>\n",
              "      <td>0.000000</td>\n",
              "      <td>0.000000</td>\n",
              "    </tr>\n",
              "    <tr>\n",
              "      <th>25%</th>\n",
              "      <td>4.000000</td>\n",
              "      <td>0.000000</td>\n",
              "      <td>0.000000</td>\n",
              "    </tr>\n",
              "    <tr>\n",
              "      <th>50%</th>\n",
              "      <td>5.000000</td>\n",
              "      <td>0.000000</td>\n",
              "      <td>1.000000</td>\n",
              "    </tr>\n",
              "    <tr>\n",
              "      <th>75%</th>\n",
              "      <td>5.000000</td>\n",
              "      <td>2.000000</td>\n",
              "      <td>3.000000</td>\n",
              "    </tr>\n",
              "    <tr>\n",
              "      <th>max</th>\n",
              "      <td>5.000000</td>\n",
              "      <td>507.000000</td>\n",
              "      <td>525.000000</td>\n",
              "    </tr>\n",
              "  </tbody>\n",
              "</table>\n",
              "</div>\n",
              "      <button class=\"colab-df-convert\" onclick=\"convertToInteractive('df-b08c804e-6def-41db-a480-02f864228fc6')\"\n",
              "              title=\"Convert this dataframe to an interactive table.\"\n",
              "              style=\"display:none;\">\n",
              "        \n",
              "  <svg xmlns=\"http://www.w3.org/2000/svg\" height=\"24px\"viewBox=\"0 0 24 24\"\n",
              "       width=\"24px\">\n",
              "    <path d=\"M0 0h24v24H0V0z\" fill=\"none\"/>\n",
              "    <path d=\"M18.56 5.44l.94 2.06.94-2.06 2.06-.94-2.06-.94-.94-2.06-.94 2.06-2.06.94zm-11 1L8.5 8.5l.94-2.06 2.06-.94-2.06-.94L8.5 2.5l-.94 2.06-2.06.94zm10 10l.94 2.06.94-2.06 2.06-.94-2.06-.94-.94-2.06-.94 2.06-2.06.94z\"/><path d=\"M17.41 7.96l-1.37-1.37c-.4-.4-.92-.59-1.43-.59-.52 0-1.04.2-1.43.59L10.3 9.45l-7.72 7.72c-.78.78-.78 2.05 0 2.83L4 21.41c.39.39.9.59 1.41.59.51 0 1.02-.2 1.41-.59l7.78-7.78 2.81-2.81c.8-.78.8-2.07 0-2.86zM5.41 20L4 18.59l7.72-7.72 1.47 1.35L5.41 20z\"/>\n",
              "  </svg>\n",
              "      </button>\n",
              "      \n",
              "  <style>\n",
              "    .colab-df-container {\n",
              "      display:flex;\n",
              "      flex-wrap:wrap;\n",
              "      gap: 12px;\n",
              "    }\n",
              "\n",
              "    .colab-df-convert {\n",
              "      background-color: #E8F0FE;\n",
              "      border: none;\n",
              "      border-radius: 50%;\n",
              "      cursor: pointer;\n",
              "      display: none;\n",
              "      fill: #1967D2;\n",
              "      height: 32px;\n",
              "      padding: 0 0 0 0;\n",
              "      width: 32px;\n",
              "    }\n",
              "\n",
              "    .colab-df-convert:hover {\n",
              "      background-color: #E2EBFA;\n",
              "      box-shadow: 0px 1px 2px rgba(60, 64, 67, 0.3), 0px 1px 3px 1px rgba(60, 64, 67, 0.15);\n",
              "      fill: #174EA6;\n",
              "    }\n",
              "\n",
              "    [theme=dark] .colab-df-convert {\n",
              "      background-color: #3B4455;\n",
              "      fill: #D2E3FC;\n",
              "    }\n",
              "\n",
              "    [theme=dark] .colab-df-convert:hover {\n",
              "      background-color: #434B5C;\n",
              "      box-shadow: 0px 1px 3px 1px rgba(0, 0, 0, 0.15);\n",
              "      filter: drop-shadow(0px 1px 2px rgba(0, 0, 0, 0.3));\n",
              "      fill: #FFFFFF;\n",
              "    }\n",
              "  </style>\n",
              "\n",
              "      <script>\n",
              "        const buttonEl =\n",
              "          document.querySelector('#df-b08c804e-6def-41db-a480-02f864228fc6 button.colab-df-convert');\n",
              "        buttonEl.style.display =\n",
              "          google.colab.kernel.accessAllowed ? 'block' : 'none';\n",
              "\n",
              "        async function convertToInteractive(key) {\n",
              "          const element = document.querySelector('#df-b08c804e-6def-41db-a480-02f864228fc6');\n",
              "          const dataTable =\n",
              "            await google.colab.kernel.invokeFunction('convertToInteractive',\n",
              "                                                     [key], {});\n",
              "          if (!dataTable) return;\n",
              "\n",
              "          const docLinkHtml = 'Like what you see? Visit the ' +\n",
              "            '<a target=\"_blank\" href=https://colab.research.google.com/notebooks/data_table.ipynb>data table notebook</a>'\n",
              "            + ' to learn more about interactive tables.';\n",
              "          element.innerHTML = '';\n",
              "          dataTable['output_type'] = 'display_data';\n",
              "          await google.colab.output.renderOutput(dataTable, element);\n",
              "          const docLink = document.createElement('div');\n",
              "          docLink.innerHTML = docLinkHtml;\n",
              "          element.appendChild(docLink);\n",
              "        }\n",
              "      </script>\n",
              "    </div>\n",
              "  </div>\n",
              "  "
            ],
            "text/plain": [
              "           overall  helpful_numerator  helpful_denominator\n",
              "count  3545.000000        3545.000000          3545.000000\n",
              "mean      4.202539           5.162482             5.882934\n",
              "std       1.214865          21.162774            22.175134\n",
              "min       1.000000           0.000000             0.000000\n",
              "25%       4.000000           0.000000             0.000000\n",
              "50%       5.000000           0.000000             1.000000\n",
              "75%       5.000000           2.000000             3.000000\n",
              "max       5.000000         507.000000           525.000000"
            ]
          },
          "execution_count": 12,
          "metadata": {},
          "output_type": "execute_result"
        }
      ],
      "source": [
        "df.describe()"
      ]
    },
    {
      "cell_type": "markdown",
      "metadata": {
        "id": "aNJz1KPR8iFX",
        "papermill": {
          "duration": 0.05185,
          "end_time": "2021-03-26T06:17:36.469779",
          "exception": false,
          "start_time": "2021-03-26T06:17:36.417929",
          "status": "completed"
        },
        "tags": []
      },
      "source": [
        "Here, since our dataset is huge(about 1687169 records), we are taking only those records that have at least 20 ratings in total."
      ]
    },
    {
      "cell_type": "code",
      "execution_count": null,
      "metadata": {
        "colab": {
          "base_uri": "https://localhost:8080/"
        },
        "execution": {
          "iopub.execute_input": "2021-03-26T06:17:36.586122Z",
          "iopub.status.busy": "2021-03-26T06:17:36.585395Z",
          "iopub.status.idle": "2021-03-26T06:17:36.610171Z",
          "shell.execute_reply": "2021-03-26T06:17:36.610717Z"
        },
        "id": "ymQUiqN38iFY",
        "outputId": "e4facced-ba89-4a59-8eea-ed2df57f265d",
        "papermill": {
          "duration": 0.086006,
          "end_time": "2021-03-26T06:17:36.610925",
          "exception": false,
          "start_time": "2021-03-26T06:17:36.524919",
          "status": "completed"
        },
        "tags": []
      },
      "outputs": [
        {
          "data": {
            "text/plain": [
              "(226, 4)"
            ]
          },
          "execution_count": 13,
          "metadata": {},
          "output_type": "execute_result"
        }
      ],
      "source": [
        "# include reviews that have more than 20 helpfulness data point only\n",
        "df1 = df[(df.helpful_denominator > 20)].copy()\n",
        "df1.shape"
      ]
    },
    {
      "cell_type": "markdown",
      "metadata": {
        "id": "oo7rwjXn8iFY",
        "papermill": {
          "duration": 0.051681,
          "end_time": "2021-03-26T06:17:36.713221",
          "exception": false,
          "start_time": "2021-03-26T06:17:36.661540",
          "status": "completed"
        },
        "tags": []
      },
      "source": [
        "Here to get our output label **helpfulness**, we have to take the ratio of helpful_numerator to helpful_denominator. The result is compared with a threshold value(*we are taking threshold as 50%, but we can change it as per our requirement*).\n",
        "* If result > threshold ==> helpful = 1\n",
        "* if result < treshold ==> not helpful = 0"
      ]
    },
    {
      "cell_type": "code",
      "execution_count": null,
      "metadata": {
        "colab": {
          "base_uri": "https://localhost:8080/",
          "height": 143
        },
        "execution": {
          "iopub.execute_input": "2021-03-26T06:17:36.822593Z",
          "iopub.status.busy": "2021-03-26T06:17:36.821708Z",
          "iopub.status.idle": "2021-03-26T06:17:36.843565Z",
          "shell.execute_reply": "2021-03-26T06:17:36.844097Z"
        },
        "id": "tfCFi5Es8iFZ",
        "outputId": "ee19cbf0-00cb-4dd1-bce6-83f02ade19a0",
        "papermill": {
          "duration": 0.080701,
          "end_time": "2021-03-26T06:17:36.844301",
          "exception": false,
          "start_time": "2021-03-26T06:17:36.763600",
          "status": "completed"
        },
        "tags": []
      },
      "outputs": [
        {
          "data": {
            "text/html": [
              "\n",
              "  <div id=\"df-754e48a8-5222-4b34-9e9e-39292ed484b2\">\n",
              "    <div class=\"colab-df-container\">\n",
              "      <div>\n",
              "<style scoped>\n",
              "    .dataframe tbody tr th:only-of-type {\n",
              "        vertical-align: middle;\n",
              "    }\n",
              "\n",
              "    .dataframe tbody tr th {\n",
              "        vertical-align: top;\n",
              "    }\n",
              "\n",
              "    .dataframe thead th {\n",
              "        text-align: right;\n",
              "    }\n",
              "</style>\n",
              "<table border=\"1\" class=\"dataframe\">\n",
              "  <thead>\n",
              "    <tr style=\"text-align: right;\">\n",
              "      <th></th>\n",
              "      <th>overall</th>\n",
              "      <th>reviewText</th>\n",
              "      <th>helpful_numerator</th>\n",
              "      <th>helpful_denominator</th>\n",
              "      <th>Helpful</th>\n",
              "    </tr>\n",
              "  </thead>\n",
              "  <tbody>\n",
              "    <tr>\n",
              "      <th>2</th>\n",
              "      <td>3</td>\n",
              "      <td>well what can i say ive had this unit in my tr...</td>\n",
              "      <td>43</td>\n",
              "      <td>45</td>\n",
              "      <td>1</td>\n",
              "    </tr>\n",
              "    <tr>\n",
              "      <th>211</th>\n",
              "      <td>3</td>\n",
              "      <td>i purchased this mount for my inch lcd tv inst...</td>\n",
              "      <td>70</td>\n",
              "      <td>92</td>\n",
              "      <td>1</td>\n",
              "    </tr>\n",
              "    <tr>\n",
              "      <th>221</th>\n",
              "      <td>5</td>\n",
              "      <td>do not listen to other reviewer screw that thi...</td>\n",
              "      <td>18</td>\n",
              "      <td>23</td>\n",
              "      <td>1</td>\n",
              "    </tr>\n",
              "  </tbody>\n",
              "</table>\n",
              "</div>\n",
              "      <button class=\"colab-df-convert\" onclick=\"convertToInteractive('df-754e48a8-5222-4b34-9e9e-39292ed484b2')\"\n",
              "              title=\"Convert this dataframe to an interactive table.\"\n",
              "              style=\"display:none;\">\n",
              "        \n",
              "  <svg xmlns=\"http://www.w3.org/2000/svg\" height=\"24px\"viewBox=\"0 0 24 24\"\n",
              "       width=\"24px\">\n",
              "    <path d=\"M0 0h24v24H0V0z\" fill=\"none\"/>\n",
              "    <path d=\"M18.56 5.44l.94 2.06.94-2.06 2.06-.94-2.06-.94-.94-2.06-.94 2.06-2.06.94zm-11 1L8.5 8.5l.94-2.06 2.06-.94-2.06-.94L8.5 2.5l-.94 2.06-2.06.94zm10 10l.94 2.06.94-2.06 2.06-.94-2.06-.94-.94-2.06-.94 2.06-2.06.94z\"/><path d=\"M17.41 7.96l-1.37-1.37c-.4-.4-.92-.59-1.43-.59-.52 0-1.04.2-1.43.59L10.3 9.45l-7.72 7.72c-.78.78-.78 2.05 0 2.83L4 21.41c.39.39.9.59 1.41.59.51 0 1.02-.2 1.41-.59l7.78-7.78 2.81-2.81c.8-.78.8-2.07 0-2.86zM5.41 20L4 18.59l7.72-7.72 1.47 1.35L5.41 20z\"/>\n",
              "  </svg>\n",
              "      </button>\n",
              "      \n",
              "  <style>\n",
              "    .colab-df-container {\n",
              "      display:flex;\n",
              "      flex-wrap:wrap;\n",
              "      gap: 12px;\n",
              "    }\n",
              "\n",
              "    .colab-df-convert {\n",
              "      background-color: #E8F0FE;\n",
              "      border: none;\n",
              "      border-radius: 50%;\n",
              "      cursor: pointer;\n",
              "      display: none;\n",
              "      fill: #1967D2;\n",
              "      height: 32px;\n",
              "      padding: 0 0 0 0;\n",
              "      width: 32px;\n",
              "    }\n",
              "\n",
              "    .colab-df-convert:hover {\n",
              "      background-color: #E2EBFA;\n",
              "      box-shadow: 0px 1px 2px rgba(60, 64, 67, 0.3), 0px 1px 3px 1px rgba(60, 64, 67, 0.15);\n",
              "      fill: #174EA6;\n",
              "    }\n",
              "\n",
              "    [theme=dark] .colab-df-convert {\n",
              "      background-color: #3B4455;\n",
              "      fill: #D2E3FC;\n",
              "    }\n",
              "\n",
              "    [theme=dark] .colab-df-convert:hover {\n",
              "      background-color: #434B5C;\n",
              "      box-shadow: 0px 1px 3px 1px rgba(0, 0, 0, 0.15);\n",
              "      filter: drop-shadow(0px 1px 2px rgba(0, 0, 0, 0.3));\n",
              "      fill: #FFFFFF;\n",
              "    }\n",
              "  </style>\n",
              "\n",
              "      <script>\n",
              "        const buttonEl =\n",
              "          document.querySelector('#df-754e48a8-5222-4b34-9e9e-39292ed484b2 button.colab-df-convert');\n",
              "        buttonEl.style.display =\n",
              "          google.colab.kernel.accessAllowed ? 'block' : 'none';\n",
              "\n",
              "        async function convertToInteractive(key) {\n",
              "          const element = document.querySelector('#df-754e48a8-5222-4b34-9e9e-39292ed484b2');\n",
              "          const dataTable =\n",
              "            await google.colab.kernel.invokeFunction('convertToInteractive',\n",
              "                                                     [key], {});\n",
              "          if (!dataTable) return;\n",
              "\n",
              "          const docLinkHtml = 'Like what you see? Visit the ' +\n",
              "            '<a target=\"_blank\" href=https://colab.research.google.com/notebooks/data_table.ipynb>data table notebook</a>'\n",
              "            + ' to learn more about interactive tables.';\n",
              "          element.innerHTML = '';\n",
              "          dataTable['output_type'] = 'display_data';\n",
              "          await google.colab.output.renderOutput(dataTable, element);\n",
              "          const docLink = document.createElement('div');\n",
              "          docLink.innerHTML = docLinkHtml;\n",
              "          element.appendChild(docLink);\n",
              "        }\n",
              "      </script>\n",
              "    </div>\n",
              "  </div>\n",
              "  "
            ],
            "text/plain": [
              "     overall                                         reviewText  \\\n",
              "2          3  well what can i say ive had this unit in my tr...   \n",
              "211        3  i purchased this mount for my inch lcd tv inst...   \n",
              "221        5  do not listen to other reviewer screw that thi...   \n",
              "\n",
              "     helpful_numerator  helpful_denominator  Helpful  \n",
              "2                   43                   45        1  \n",
              "211                 70                   92        1  \n",
              "221                 18                   23        1  "
            ]
          },
          "execution_count": 14,
          "metadata": {},
          "output_type": "execute_result"
        }
      ],
      "source": [
        "# transform Helpfulness into a binary variable with 0.5 ratio\n",
        "threshold = 0.5\n",
        "df1.loc[:, 'Helpful'] = np.where(df1.loc[:, 'helpful_numerator'] \\\n",
        "                                 / df1.loc[:, 'helpful_denominator'] > threshold, 1, 0)\n",
        "df1.head(3)"
      ]
    },
    {
      "cell_type": "markdown",
      "metadata": {
        "id": "c8hRtMYR8iFZ",
        "papermill": {
          "duration": 0.052406,
          "end_time": "2021-03-26T06:17:36.950528",
          "exception": false,
          "start_time": "2021-03-26T06:17:36.898122",
          "status": "completed"
        },
        "tags": []
      },
      "source": [
        "Now let's do the count of data to get an idea about the distribution of helpfulness."
      ]
    },
    {
      "cell_type": "code",
      "execution_count": null,
      "metadata": {
        "colab": {
          "base_uri": "https://localhost:8080/",
          "height": 161
        },
        "execution": {
          "iopub.execute_input": "2021-03-26T06:17:37.067575Z",
          "iopub.status.busy": "2021-03-26T06:17:37.066856Z",
          "iopub.status.idle": "2021-03-26T06:17:37.108289Z",
          "shell.execute_reply": "2021-03-26T06:17:37.107402Z"
        },
        "id": "gFBynrmZ8iFa",
        "outputId": "05c6350d-a581-42f7-c345-b0e150414ab9",
        "papermill": {
          "duration": 0.107305,
          "end_time": "2021-03-26T06:17:37.108488",
          "exception": false,
          "start_time": "2021-03-26T06:17:37.001183",
          "status": "completed"
        },
        "tags": []
      },
      "outputs": [
        {
          "name": "stdout",
          "output_type": "stream",
          "text": [
            "Count:\n"
          ]
        },
        {
          "data": {
            "text/html": [
              "\n",
              "  <div id=\"df-96a77d7c-4724-4f6e-a732-60eb7e8abfbd\">\n",
              "    <div class=\"colab-df-container\">\n",
              "      <div>\n",
              "<style scoped>\n",
              "    .dataframe tbody tr th:only-of-type {\n",
              "        vertical-align: middle;\n",
              "    }\n",
              "\n",
              "    .dataframe tbody tr th {\n",
              "        vertical-align: top;\n",
              "    }\n",
              "\n",
              "    .dataframe thead th {\n",
              "        text-align: right;\n",
              "    }\n",
              "</style>\n",
              "<table border=\"1\" class=\"dataframe\">\n",
              "  <thead>\n",
              "    <tr style=\"text-align: right;\">\n",
              "      <th></th>\n",
              "      <th>overall</th>\n",
              "      <th>reviewText</th>\n",
              "      <th>helpful_numerator</th>\n",
              "      <th>helpful_denominator</th>\n",
              "    </tr>\n",
              "    <tr>\n",
              "      <th>Helpful</th>\n",
              "      <th></th>\n",
              "      <th></th>\n",
              "      <th></th>\n",
              "      <th></th>\n",
              "    </tr>\n",
              "  </thead>\n",
              "  <tbody>\n",
              "    <tr>\n",
              "      <th>0</th>\n",
              "      <td>10</td>\n",
              "      <td>10</td>\n",
              "      <td>10</td>\n",
              "      <td>10</td>\n",
              "    </tr>\n",
              "    <tr>\n",
              "      <th>1</th>\n",
              "      <td>216</td>\n",
              "      <td>216</td>\n",
              "      <td>216</td>\n",
              "      <td>216</td>\n",
              "    </tr>\n",
              "  </tbody>\n",
              "</table>\n",
              "</div>\n",
              "      <button class=\"colab-df-convert\" onclick=\"convertToInteractive('df-96a77d7c-4724-4f6e-a732-60eb7e8abfbd')\"\n",
              "              title=\"Convert this dataframe to an interactive table.\"\n",
              "              style=\"display:none;\">\n",
              "        \n",
              "  <svg xmlns=\"http://www.w3.org/2000/svg\" height=\"24px\"viewBox=\"0 0 24 24\"\n",
              "       width=\"24px\">\n",
              "    <path d=\"M0 0h24v24H0V0z\" fill=\"none\"/>\n",
              "    <path d=\"M18.56 5.44l.94 2.06.94-2.06 2.06-.94-2.06-.94-.94-2.06-.94 2.06-2.06.94zm-11 1L8.5 8.5l.94-2.06 2.06-.94-2.06-.94L8.5 2.5l-.94 2.06-2.06.94zm10 10l.94 2.06.94-2.06 2.06-.94-2.06-.94-.94-2.06-.94 2.06-2.06.94z\"/><path d=\"M17.41 7.96l-1.37-1.37c-.4-.4-.92-.59-1.43-.59-.52 0-1.04.2-1.43.59L10.3 9.45l-7.72 7.72c-.78.78-.78 2.05 0 2.83L4 21.41c.39.39.9.59 1.41.59.51 0 1.02-.2 1.41-.59l7.78-7.78 2.81-2.81c.8-.78.8-2.07 0-2.86zM5.41 20L4 18.59l7.72-7.72 1.47 1.35L5.41 20z\"/>\n",
              "  </svg>\n",
              "      </button>\n",
              "      \n",
              "  <style>\n",
              "    .colab-df-container {\n",
              "      display:flex;\n",
              "      flex-wrap:wrap;\n",
              "      gap: 12px;\n",
              "    }\n",
              "\n",
              "    .colab-df-convert {\n",
              "      background-color: #E8F0FE;\n",
              "      border: none;\n",
              "      border-radius: 50%;\n",
              "      cursor: pointer;\n",
              "      display: none;\n",
              "      fill: #1967D2;\n",
              "      height: 32px;\n",
              "      padding: 0 0 0 0;\n",
              "      width: 32px;\n",
              "    }\n",
              "\n",
              "    .colab-df-convert:hover {\n",
              "      background-color: #E2EBFA;\n",
              "      box-shadow: 0px 1px 2px rgba(60, 64, 67, 0.3), 0px 1px 3px 1px rgba(60, 64, 67, 0.15);\n",
              "      fill: #174EA6;\n",
              "    }\n",
              "\n",
              "    [theme=dark] .colab-df-convert {\n",
              "      background-color: #3B4455;\n",
              "      fill: #D2E3FC;\n",
              "    }\n",
              "\n",
              "    [theme=dark] .colab-df-convert:hover {\n",
              "      background-color: #434B5C;\n",
              "      box-shadow: 0px 1px 3px 1px rgba(0, 0, 0, 0.15);\n",
              "      filter: drop-shadow(0px 1px 2px rgba(0, 0, 0, 0.3));\n",
              "      fill: #FFFFFF;\n",
              "    }\n",
              "  </style>\n",
              "\n",
              "      <script>\n",
              "        const buttonEl =\n",
              "          document.querySelector('#df-96a77d7c-4724-4f6e-a732-60eb7e8abfbd button.colab-df-convert');\n",
              "        buttonEl.style.display =\n",
              "          google.colab.kernel.accessAllowed ? 'block' : 'none';\n",
              "\n",
              "        async function convertToInteractive(key) {\n",
              "          const element = document.querySelector('#df-96a77d7c-4724-4f6e-a732-60eb7e8abfbd');\n",
              "          const dataTable =\n",
              "            await google.colab.kernel.invokeFunction('convertToInteractive',\n",
              "                                                     [key], {});\n",
              "          if (!dataTable) return;\n",
              "\n",
              "          const docLinkHtml = 'Like what you see? Visit the ' +\n",
              "            '<a target=\"_blank\" href=https://colab.research.google.com/notebooks/data_table.ipynb>data table notebook</a>'\n",
              "            + ' to learn more about interactive tables.';\n",
              "          element.innerHTML = '';\n",
              "          dataTable['output_type'] = 'display_data';\n",
              "          await google.colab.output.renderOutput(dataTable, element);\n",
              "          const docLink = document.createElement('div');\n",
              "          docLink.innerHTML = docLinkHtml;\n",
              "          element.appendChild(docLink);\n",
              "        }\n",
              "      </script>\n",
              "    </div>\n",
              "  </div>\n",
              "  "
            ],
            "text/plain": [
              "         overall  reviewText  helpful_numerator  helpful_denominator\n",
              "Helpful                                                             \n",
              "0             10          10                 10                   10\n",
              "1            216         216                216                  216"
            ]
          },
          "metadata": {},
          "output_type": "display_data"
        }
      ],
      "source": [
        "#Check the balance\n",
        "print ('Count:')\n",
        "display(df1.groupby('Helpful').count())"
      ]
    },
    {
      "cell_type": "markdown",
      "metadata": {
        "id": "lzcuIa8T8iFa",
        "papermill": {
          "duration": 0.052522,
          "end_time": "2021-03-26T06:17:37.215477",
          "exception": false,
          "start_time": "2021-03-26T06:17:37.162955",
          "status": "completed"
        },
        "tags": []
      },
      "source": [
        "Now let's see the whole data since we are going to creating our model."
      ]
    },
    {
      "cell_type": "code",
      "execution_count": null,
      "metadata": {
        "colab": {
          "base_uri": "https://localhost:8080/",
          "height": 424
        },
        "execution": {
          "iopub.execute_input": "2021-03-26T06:17:37.344320Z",
          "iopub.status.busy": "2021-03-26T06:17:37.343262Z",
          "iopub.status.idle": "2021-03-26T06:17:37.352164Z",
          "shell.execute_reply": "2021-03-26T06:17:37.351379Z"
        },
        "id": "X6ANpHsd8iFb",
        "outputId": "f7679f8d-faf7-4b36-a5f8-078e75bdf5d2",
        "papermill": {
          "duration": 0.083503,
          "end_time": "2021-03-26T06:17:37.352332",
          "exception": false,
          "start_time": "2021-03-26T06:17:37.268829",
          "status": "completed"
        },
        "tags": []
      },
      "outputs": [
        {
          "data": {
            "text/html": [
              "\n",
              "  <div id=\"df-dce22fcf-b589-4b06-b505-becabc00b1ac\">\n",
              "    <div class=\"colab-df-container\">\n",
              "      <div>\n",
              "<style scoped>\n",
              "    .dataframe tbody tr th:only-of-type {\n",
              "        vertical-align: middle;\n",
              "    }\n",
              "\n",
              "    .dataframe tbody tr th {\n",
              "        vertical-align: top;\n",
              "    }\n",
              "\n",
              "    .dataframe thead th {\n",
              "        text-align: right;\n",
              "    }\n",
              "</style>\n",
              "<table border=\"1\" class=\"dataframe\">\n",
              "  <thead>\n",
              "    <tr style=\"text-align: right;\">\n",
              "      <th></th>\n",
              "      <th>overall</th>\n",
              "      <th>reviewText</th>\n",
              "      <th>helpful_numerator</th>\n",
              "      <th>helpful_denominator</th>\n",
              "      <th>Helpful</th>\n",
              "    </tr>\n",
              "  </thead>\n",
              "  <tbody>\n",
              "    <tr>\n",
              "      <th>2</th>\n",
              "      <td>3</td>\n",
              "      <td>well what can i say ive had this unit in my tr...</td>\n",
              "      <td>43</td>\n",
              "      <td>45</td>\n",
              "      <td>1</td>\n",
              "    </tr>\n",
              "    <tr>\n",
              "      <th>211</th>\n",
              "      <td>3</td>\n",
              "      <td>i purchased this mount for my inch lcd tv inst...</td>\n",
              "      <td>70</td>\n",
              "      <td>92</td>\n",
              "      <td>1</td>\n",
              "    </tr>\n",
              "    <tr>\n",
              "      <th>221</th>\n",
              "      <td>5</td>\n",
              "      <td>do not listen to other reviewer screw that thi...</td>\n",
              "      <td>18</td>\n",
              "      <td>23</td>\n",
              "      <td>1</td>\n",
              "    </tr>\n",
              "    <tr>\n",
              "      <th>263</th>\n",
              "      <td>5</td>\n",
              "      <td>the nook tablet is a solid hybrid tabletebook ...</td>\n",
              "      <td>33</td>\n",
              "      <td>39</td>\n",
              "      <td>1</td>\n",
              "    </tr>\n",
              "    <tr>\n",
              "      <th>273</th>\n",
              "      <td>1</td>\n",
              "      <td>update sep put on cm android last week ive got...</td>\n",
              "      <td>52</td>\n",
              "      <td>57</td>\n",
              "      <td>1</td>\n",
              "    </tr>\n",
              "    <tr>\n",
              "      <th>...</th>\n",
              "      <td>...</td>\n",
              "      <td>...</td>\n",
              "      <td>...</td>\n",
              "      <td>...</td>\n",
              "      <td>...</td>\n",
              "    </tr>\n",
              "    <tr>\n",
              "      <th>3433</th>\n",
              "      <td>5</td>\n",
              "      <td>i use it to convert old tape to cd via compute...</td>\n",
              "      <td>39</td>\n",
              "      <td>40</td>\n",
              "      <td>1</td>\n",
              "    </tr>\n",
              "    <tr>\n",
              "      <th>3439</th>\n",
              "      <td>2</td>\n",
              "      <td>at first blush this unit look promising keepin...</td>\n",
              "      <td>23</td>\n",
              "      <td>24</td>\n",
              "      <td>1</td>\n",
              "    </tr>\n",
              "    <tr>\n",
              "      <th>3450</th>\n",
              "      <td>5</td>\n",
              "      <td>i dont understand all the negative review abou...</td>\n",
              "      <td>42</td>\n",
              "      <td>42</td>\n",
              "      <td>1</td>\n",
              "    </tr>\n",
              "    <tr>\n",
              "      <th>3479</th>\n",
              "      <td>5</td>\n",
              "      <td>it work clean and prefect what else can be sai...</td>\n",
              "      <td>19</td>\n",
              "      <td>23</td>\n",
              "      <td>1</td>\n",
              "    </tr>\n",
              "    <tr>\n",
              "      <th>3527</th>\n",
              "      <td>5</td>\n",
              "      <td>ok the first thing about this review i have a ...</td>\n",
              "      <td>84</td>\n",
              "      <td>93</td>\n",
              "      <td>1</td>\n",
              "    </tr>\n",
              "  </tbody>\n",
              "</table>\n",
              "<p>226 rows × 5 columns</p>\n",
              "</div>\n",
              "      <button class=\"colab-df-convert\" onclick=\"convertToInteractive('df-dce22fcf-b589-4b06-b505-becabc00b1ac')\"\n",
              "              title=\"Convert this dataframe to an interactive table.\"\n",
              "              style=\"display:none;\">\n",
              "        \n",
              "  <svg xmlns=\"http://www.w3.org/2000/svg\" height=\"24px\"viewBox=\"0 0 24 24\"\n",
              "       width=\"24px\">\n",
              "    <path d=\"M0 0h24v24H0V0z\" fill=\"none\"/>\n",
              "    <path d=\"M18.56 5.44l.94 2.06.94-2.06 2.06-.94-2.06-.94-.94-2.06-.94 2.06-2.06.94zm-11 1L8.5 8.5l.94-2.06 2.06-.94-2.06-.94L8.5 2.5l-.94 2.06-2.06.94zm10 10l.94 2.06.94-2.06 2.06-.94-2.06-.94-.94-2.06-.94 2.06-2.06.94z\"/><path d=\"M17.41 7.96l-1.37-1.37c-.4-.4-.92-.59-1.43-.59-.52 0-1.04.2-1.43.59L10.3 9.45l-7.72 7.72c-.78.78-.78 2.05 0 2.83L4 21.41c.39.39.9.59 1.41.59.51 0 1.02-.2 1.41-.59l7.78-7.78 2.81-2.81c.8-.78.8-2.07 0-2.86zM5.41 20L4 18.59l7.72-7.72 1.47 1.35L5.41 20z\"/>\n",
              "  </svg>\n",
              "      </button>\n",
              "      \n",
              "  <style>\n",
              "    .colab-df-container {\n",
              "      display:flex;\n",
              "      flex-wrap:wrap;\n",
              "      gap: 12px;\n",
              "    }\n",
              "\n",
              "    .colab-df-convert {\n",
              "      background-color: #E8F0FE;\n",
              "      border: none;\n",
              "      border-radius: 50%;\n",
              "      cursor: pointer;\n",
              "      display: none;\n",
              "      fill: #1967D2;\n",
              "      height: 32px;\n",
              "      padding: 0 0 0 0;\n",
              "      width: 32px;\n",
              "    }\n",
              "\n",
              "    .colab-df-convert:hover {\n",
              "      background-color: #E2EBFA;\n",
              "      box-shadow: 0px 1px 2px rgba(60, 64, 67, 0.3), 0px 1px 3px 1px rgba(60, 64, 67, 0.15);\n",
              "      fill: #174EA6;\n",
              "    }\n",
              "\n",
              "    [theme=dark] .colab-df-convert {\n",
              "      background-color: #3B4455;\n",
              "      fill: #D2E3FC;\n",
              "    }\n",
              "\n",
              "    [theme=dark] .colab-df-convert:hover {\n",
              "      background-color: #434B5C;\n",
              "      box-shadow: 0px 1px 3px 1px rgba(0, 0, 0, 0.15);\n",
              "      filter: drop-shadow(0px 1px 2px rgba(0, 0, 0, 0.3));\n",
              "      fill: #FFFFFF;\n",
              "    }\n",
              "  </style>\n",
              "\n",
              "      <script>\n",
              "        const buttonEl =\n",
              "          document.querySelector('#df-dce22fcf-b589-4b06-b505-becabc00b1ac button.colab-df-convert');\n",
              "        buttonEl.style.display =\n",
              "          google.colab.kernel.accessAllowed ? 'block' : 'none';\n",
              "\n",
              "        async function convertToInteractive(key) {\n",
              "          const element = document.querySelector('#df-dce22fcf-b589-4b06-b505-becabc00b1ac');\n",
              "          const dataTable =\n",
              "            await google.colab.kernel.invokeFunction('convertToInteractive',\n",
              "                                                     [key], {});\n",
              "          if (!dataTable) return;\n",
              "\n",
              "          const docLinkHtml = 'Like what you see? Visit the ' +\n",
              "            '<a target=\"_blank\" href=https://colab.research.google.com/notebooks/data_table.ipynb>data table notebook</a>'\n",
              "            + ' to learn more about interactive tables.';\n",
              "          element.innerHTML = '';\n",
              "          dataTable['output_type'] = 'display_data';\n",
              "          await google.colab.output.renderOutput(dataTable, element);\n",
              "          const docLink = document.createElement('div');\n",
              "          docLink.innerHTML = docLinkHtml;\n",
              "          element.appendChild(docLink);\n",
              "        }\n",
              "      </script>\n",
              "    </div>\n",
              "  </div>\n",
              "  "
            ],
            "text/plain": [
              "      overall                                         reviewText  \\\n",
              "2           3  well what can i say ive had this unit in my tr...   \n",
              "211         3  i purchased this mount for my inch lcd tv inst...   \n",
              "221         5  do not listen to other reviewer screw that thi...   \n",
              "263         5  the nook tablet is a solid hybrid tabletebook ...   \n",
              "273         1  update sep put on cm android last week ive got...   \n",
              "...       ...                                                ...   \n",
              "3433        5  i use it to convert old tape to cd via compute...   \n",
              "3439        2  at first blush this unit look promising keepin...   \n",
              "3450        5  i dont understand all the negative review abou...   \n",
              "3479        5  it work clean and prefect what else can be sai...   \n",
              "3527        5  ok the first thing about this review i have a ...   \n",
              "\n",
              "      helpful_numerator  helpful_denominator  Helpful  \n",
              "2                    43                   45        1  \n",
              "211                  70                   92        1  \n",
              "221                  18                   23        1  \n",
              "263                  33                   39        1  \n",
              "273                  52                   57        1  \n",
              "...                 ...                  ...      ...  \n",
              "3433                 39                   40        1  \n",
              "3439                 23                   24        1  \n",
              "3450                 42                   42        1  \n",
              "3479                 19                   23        1  \n",
              "3527                 84                   93        1  \n",
              "\n",
              "[226 rows x 5 columns]"
            ]
          },
          "execution_count": 16,
          "metadata": {},
          "output_type": "execute_result"
        }
      ],
      "source": [
        "df1"
      ]
    },
    {
      "cell_type": "markdown",
      "metadata": {
        "id": "YDFVP75R8iFb",
        "papermill": {
          "duration": 0.059183,
          "end_time": "2021-03-26T06:17:37.467222",
          "exception": false,
          "start_time": "2021-03-26T06:17:37.408039",
          "status": "completed"
        },
        "tags": []
      },
      "source": [
        "Since we have already prepared the data above. We are now directly applying TF-IDF Vectorizer to generate more features.\n",
        "TF-IDF is an acronym of Term Frequency Inverse Document Frequency. It is a statistical measure used to find how important a word is to document in a collection or corpus. It is generally used in text mining and information retrieval.\n",
        "\n",
        "> TF: Term Frequency, which measures how frequently a term occurs in a document. Since every document is different in length, it may possible that a term would appear much more times in long documents than shorter ones. Thus, the term frequency is often divided by the document length (aka. the total number of terms in the document) as a way of normalization:\n",
        ">  \n",
        "> TF(t) = (Number of times term t appears in a document) / (Total number of terms in the document).\n",
        ">  \n",
        "> IDF: Inverse Document Frequency, which measures how important a term is. While computing TF, all terms are considered equally important. However, it is known that certain terms, such as \"is\", \"of\", and \"that\", may appear a lot of times but have little importance. Thus we need to weigh down the frequent terms while scaling up the rare ones, by computing the following:\n",
        ">  \n",
        "> IDF(t) = log_e(Total number of documents / Number of documents with term t in it).\n"
      ]
    },
    {
      "cell_type": "code",
      "execution_count": null,
      "metadata": {
        "colab": {
          "base_uri": "https://localhost:8080/"
        },
        "execution": {
          "iopub.execute_input": "2021-03-26T06:17:37.600112Z",
          "iopub.status.busy": "2021-03-26T06:17:37.594654Z",
          "iopub.status.idle": "2021-03-26T06:18:00.575496Z",
          "shell.execute_reply": "2021-03-26T06:18:00.576180Z"
        },
        "id": "blKOfRcJ8iFb",
        "outputId": "091d6844-b722-45ea-cd40-86b15d936cf5",
        "papermill": {
          "duration": 23.054653,
          "end_time": "2021-03-26T06:18:00.576401",
          "exception": false,
          "start_time": "2021-03-26T06:17:37.521748",
          "status": "completed"
        },
        "tags": []
      },
      "outputs": [
        {
          "data": {
            "text/plain": [
              "<226x1695 sparse matrix of type '<class 'numpy.float64'>'\n",
              "\twith 23943 stored elements in Compressed Sparse Row format>"
            ]
          },
          "execution_count": 17,
          "metadata": {},
          "output_type": "execute_result"
        }
      ],
      "source": [
        "from sklearn.feature_extraction.text import TfidfVectorizer\n",
        "# define the vectorizer\n",
        "vectorizer = TfidfVectorizer(min_df = 0.01)\n",
        "# fit the vectorizers to the data.\n",
        "features = vectorizer.fit_transform(df1['reviewText'])\n",
        "features"
      ]
    },
    {
      "cell_type": "markdown",
      "metadata": {
        "id": "afZFr1f88iFc",
        "papermill": {
          "duration": 0.05089,
          "end_time": "2021-03-26T06:18:00.681777",
          "exception": false,
          "start_time": "2021-03-26T06:18:00.630887",
          "status": "completed"
        },
        "tags": []
      },
      "source": [
        "Since we don't have a separate dataset for testing we are splitting data as 80% for training and 20% for testing."
      ]
    },
    {
      "cell_type": "code",
      "execution_count": null,
      "metadata": {
        "execution": {
          "iopub.execute_input": "2021-03-26T06:18:00.794828Z",
          "iopub.status.busy": "2021-03-26T06:18:00.794064Z",
          "iopub.status.idle": "2021-03-26T06:18:00.844572Z",
          "shell.execute_reply": "2021-03-26T06:18:00.845189Z"
        },
        "id": "rZ_DeFmQ8iFc",
        "papermill": {
          "duration": 0.109483,
          "end_time": "2021-03-26T06:18:00.845380",
          "exception": false,
          "start_time": "2021-03-26T06:18:00.735897",
          "status": "completed"
        },
        "tags": []
      },
      "outputs": [],
      "source": [
        "# split and shuffle data\n",
        "from sklearn.model_selection import train_test_split\n",
        "X_train, X_test, y_train, y_test = train_test_split(features,df1['Helpful'], test_size=0.2, random_state=RAN_STATE)"
      ]
    },
    {
      "cell_type": "markdown",
      "metadata": {
        "id": "HF0DqaRK8iFd",
        "papermill": {
          "duration": 0.052499,
          "end_time": "2021-03-26T06:18:00.954567",
          "exception": false,
          "start_time": "2021-03-26T06:18:00.902068",
          "status": "completed"
        },
        "tags": []
      },
      "source": [
        "Since our problem is of binary classification(helpful or not helpful), we are using roc_auc_score to evaluate our model.\n",
        "\n",
        "The roc_auc_score computes the area under the receiver operating characteristic (ROC) curve which is also denoted by AUC or AUROC. By computing the area under the roc curve, the curve information is summarized in one number.\n",
        "\n",
        "This curve is created by plotting the true positive rate (TPR) against the false positive rate (FPR). The area under the curve is used to give a score to the model.\n",
        "> If AUC = 0.5 => TPR = FPR, and the model is doing just random computations.\n",
        ">\n",
        "> If AUC= 1.0 => TPR = 100%,and it is an ideal model.\n",
        "\n",
        "* True Positive: the truth is positive, and the test predicts a positive. e.g. The person is sick, and the test accurately reports this.\n",
        "* False Positive: the truth is negative, but the test predicts a positive. e.g. The person is not sick, but the test inaccurately reports that they are. It is also called a Type I error in statistics.\n",
        "\n"
      ]
    },
    {
      "cell_type": "code",
      "execution_count": null,
      "metadata": {
        "execution": {
          "iopub.execute_input": "2021-03-26T06:18:01.073041Z",
          "iopub.status.busy": "2021-03-26T06:18:01.072169Z",
          "iopub.status.idle": "2021-03-26T06:18:01.076679Z",
          "shell.execute_reply": "2021-03-26T06:18:01.075880Z"
        },
        "id": "EEmexRk-8iFd",
        "papermill": {
          "duration": 0.069923,
          "end_time": "2021-03-26T06:18:01.076839",
          "exception": false,
          "start_time": "2021-03-26T06:18:01.006916",
          "status": "completed"
        },
        "tags": []
      },
      "outputs": [],
      "source": [
        "from sklearn.metrics import roc_auc_score, roc_curve\n",
        "\n",
        "def train_classifier(clf, X_train, y_train):\n",
        "    ''' Fits a classifier to the training data. '''\n",
        "    \n",
        "    # Start the clock, train the classifier, then stop the clock\n",
        "    start = time()\n",
        "    clf.fit(X_train, y_train)\n",
        "    end = time()\n",
        "    \n",
        "    # Print the results\n",
        "    print (\"Trained model in {:.4f} seconds\".format(end - start))\n",
        "\n",
        "    \n",
        "def predict_labels(clf, features, target):\n",
        "    ''' Makes predictions using a fit classifier based on roc_auc score. '''\n",
        "    \n",
        "    # Start the clock, make predictions, then stop the clock\n",
        "    start = time()\n",
        "    probas = clf.predict_proba(features)\n",
        "    end = time()\n",
        "    \n",
        "    # Print and return results\n",
        "    print (\"Made predictions in {:.4f} seconds.\".format(end - start))\n",
        "    return roc_auc_score(target.values, probas[:,1].T)\n",
        "\n",
        "\n",
        "def train_predict(clf, X_train, y_train, X_test, y_test):\n",
        "    ''' Train and predict using a classifer based on roc_auc score. '''\n",
        "    \n",
        "    # Indicate the classifier and the training set size\n",
        "    print (\"Training a {} using a training set size of {}. . .\".format(clf.__class__.__name__, X_train.shape[0]))\n",
        "    \n",
        "    # Train the classifier\n",
        "    train_classifier(clf, X_train, y_train)\n",
        "    \n",
        "    # Print the results of prediction for both training and testing\n",
        "    print (\"ROC_AUC score for training set: {:.4f}.\".format(predict_labels(clf, X_train, y_train)))\n",
        "    print (\"ROC_AUC score for test set: {:.4f}.\\n\".format(predict_labels(clf, X_test, y_test)))\n",
        "    \n",
        "def clf_test_roc_score(clf, X_train, y_train, X_test, y_test):\n",
        "    clf.fit(X_train, y_train)\n",
        "    probas = probas =clf.predict_proba(X_test)\n",
        "    return roc_auc_score(y_test, probas[:,1].T)"
      ]
    },
    {
      "cell_type": "markdown",
      "metadata": {
        "id": "4WzELTvJ8iFe",
        "papermill": {
          "duration": 0.050646,
          "end_time": "2021-03-26T06:18:01.182153",
          "exception": false,
          "start_time": "2021-03-26T06:18:01.131507",
          "status": "completed"
        },
        "tags": []
      },
      "source": [
        "To make a baseline model for our project we are going to use the following algorithms :\n",
        "\n",
        "* **GaussianNB**: GaussianNB implements the Gaussian Naive Bayes algorithm for classification. In Gaussian Naive Bayes, continuous values associated with each feature are assumed to be distributed according to a Gaussian distribution. \n",
        "A Gaussian distribution is also called Normal distribution. When plotted, it gives a bell-shaped curve that is symmetric about the mean of the feature values.\n",
        "<img src=\"https://imgur.com/nMRnwlL.png\" width=\"400px\">\n",
        "\n",
        "* **Logistic Regression**: Logistic regression, despite its name, is a linear model for classification rather than regression. Logistic regression is also known in the literature as logit regression, maximum-entropy classification (MaxEnt), or the log-linear classifier\n",
        "\n",
        "* **Decision tree**: DecisionTreeClassifier is a classifier capable of performing both binary and multi-class classification on a dataset. A Decision tree is a flowchart-like tree structure, where each internal node denotes a test on an attribute, each branch represents an outcome of the test, and each leaf node (terminal node) holds a class label.\n",
        "\n",
        "All the algorithms used here are popular algorithms for classification. However, since we are doing binary classification, I think *Logistic Regression* would give better results than *Decision tree* or *Gaussian Naive Bayes*."
      ]
    },
    {
      "cell_type": "code",
      "execution_count": null,
      "metadata": {
        "colab": {
          "base_uri": "https://localhost:8080/"
        },
        "execution": {
          "iopub.execute_input": "2021-03-26T06:18:01.377284Z",
          "iopub.status.busy": "2021-03-26T06:18:01.376159Z",
          "iopub.status.idle": "2021-03-26T06:25:20.975310Z",
          "shell.execute_reply": "2021-03-26T06:25:20.974721Z"
        },
        "id": "rj3SgQi68iFe",
        "outputId": "ec4c6094-7054-46e0-e9aa-da9be87e8d20",
        "papermill": {
          "duration": 439.738957,
          "end_time": "2021-03-26T06:25:20.975491",
          "exception": false,
          "start_time": "2021-03-26T06:18:01.236534",
          "status": "completed"
        },
        "tags": []
      },
      "outputs": [
        {
          "name": "stdout",
          "output_type": "stream",
          "text": [
            "Training a GaussianNB using a training set size of 180. . .\n",
            "Trained model in 0.0113 seconds\n",
            "Made predictions in 0.0042 seconds.\n",
            "ROC_AUC score for training set: 1.0000.\n",
            "Made predictions in 0.0015 seconds.\n",
            "ROC_AUC score for test set: 0.5000.\n",
            "\n",
            "Training a GaussianNB using a training set size of 180. . .\n",
            "Trained model in 0.0049 seconds\n",
            "Made predictions in 0.0038 seconds.\n",
            "ROC_AUC score for training set: 1.0000.\n",
            "Made predictions in 0.0022 seconds.\n",
            "ROC_AUC score for test set: 0.5000.\n",
            "\n",
            "Training a GaussianNB using a training set size of 180. . .\n",
            "Trained model in 0.0052 seconds\n",
            "Made predictions in 0.0039 seconds.\n",
            "ROC_AUC score for training set: 1.0000.\n",
            "Made predictions in 0.0023 seconds.\n",
            "ROC_AUC score for test set: 0.5000.\n",
            "\n",
            "Training a LogisticRegression using a training set size of 180. . .\n",
            "Trained model in 0.0204 seconds\n",
            "Made predictions in 0.0011 seconds.\n",
            "ROC_AUC score for training set: 1.0000.\n",
            "Made predictions in 0.0009 seconds.\n",
            "ROC_AUC score for test set: 0.9464.\n",
            "\n",
            "Training a LogisticRegression using a training set size of 180. . .\n",
            "Trained model in 0.0167 seconds\n",
            "Made predictions in 0.0011 seconds.\n",
            "ROC_AUC score for training set: 1.0000.\n",
            "Made predictions in 0.0009 seconds.\n",
            "ROC_AUC score for test set: 0.9464.\n",
            "\n",
            "Training a LogisticRegression using a training set size of 180. . .\n",
            "Trained model in 0.0160 seconds\n",
            "Made predictions in 0.0009 seconds.\n",
            "ROC_AUC score for training set: 1.0000.\n",
            "Made predictions in 0.0009 seconds.\n",
            "ROC_AUC score for test set: 0.9464.\n",
            "\n",
            "Training a DecisionTreeClassifier using a training set size of 180. . .\n",
            "Trained model in 0.0180 seconds\n",
            "Made predictions in 0.0013 seconds.\n",
            "ROC_AUC score for training set: 1.0000.\n",
            "Made predictions in 0.0011 seconds.\n",
            "ROC_AUC score for test set: 0.4881.\n",
            "\n",
            "Training a DecisionTreeClassifier using a training set size of 180. . .\n",
            "Trained model in 0.0161 seconds\n",
            "Made predictions in 0.0017 seconds.\n",
            "ROC_AUC score for training set: 1.0000.\n",
            "Made predictions in 0.0005 seconds.\n",
            "ROC_AUC score for test set: 0.4881.\n",
            "\n",
            "Training a DecisionTreeClassifier using a training set size of 180. . .\n",
            "Trained model in 0.0168 seconds\n",
            "Made predictions in 0.0026 seconds.\n",
            "ROC_AUC score for training set: 1.0000.\n",
            "Made predictions in 0.0031 seconds.\n",
            "ROC_AUC score for test set: 0.4881.\n",
            "\n"
          ]
        }
      ],
      "source": [
        "# Import the supervised learning models from sklearn\n",
        "from sklearn.naive_bayes import GaussianNB\n",
        "from sklearn.linear_model import LogisticRegression\n",
        "from sklearn.tree import DecisionTreeClassifier\n",
        "\n",
        "\n",
        "# Initialize the models using a random state were applicable.\n",
        "clf_list = [GaussianNB(),  \n",
        "            LogisticRegression(random_state = RAN_STATE),\n",
        "            DecisionTreeClassifier(random_state = RAN_STATE)]\n",
        "x_tr = X_train.toarray()\n",
        "x_te = X_test.toarray()\n",
        "\n",
        "\n",
        "# Set up the training set sizes for 10000, 20000 and 40000 respectively.\n",
        "train_feature_list = [x_tr[0:10000],x_tr[0:20000],x_tr]\n",
        "train_target_list = [y_train[0:10000], y_train[0:20000], y_train]\n",
        "\n",
        "\n",
        "# Execute the 'train_predict' function for each of the classifiers and each training set size\n",
        "for clf in clf_list:\n",
        "    for a, b in zip(train_feature_list, train_target_list):\n",
        "        train_predict(clf, a, b, x_te, y_test)"
      ]
    },
    {
      "cell_type": "markdown",
      "metadata": {
        "id": "rBmAxuSY8iFf",
        "papermill": {
          "duration": 0.057812,
          "end_time": "2021-03-26T06:25:21.091789",
          "exception": false,
          "start_time": "2021-03-26T06:25:21.033977",
          "status": "completed"
        },
        "tags": []
      },
      "source": [
        "It's a hassle to find each value. So let's just visualize the outputs for all models."
      ]
    },
    {
      "cell_type": "code",
      "execution_count": null,
      "metadata": {
        "colab": {
          "base_uri": "https://localhost:8080/",
          "height": 312
        },
        "execution": {
          "iopub.execute_input": "2021-03-26T06:25:21.218114Z",
          "iopub.status.busy": "2021-03-26T06:25:21.217460Z",
          "iopub.status.idle": "2021-03-26T06:32:37.813509Z",
          "shell.execute_reply": "2021-03-26T06:32:37.812913Z"
        },
        "id": "qm5LgNpb8iFf",
        "outputId": "2aa6556f-9941-4632-9fc9-65f77eedebbf",
        "papermill": {
          "duration": 436.663621,
          "end_time": "2021-03-26T06:32:37.813677",
          "exception": false,
          "start_time": "2021-03-26T06:25:21.150056",
          "status": "completed"
        },
        "tags": []
      },
      "outputs": [
        {
          "data": {
            "image/png": "[encoded data removed]",
            "text/plain": [
              "<Figure size 432x288 with 1 Axes>"
            ]
          },
          "metadata": {
            "needs_background": "light"
          },
          "output_type": "display_data"
        },
        {
          "data": {
            "text/plain": [
              "<Figure size 1008x576 with 0 Axes>"
            ]
          },
          "metadata": {},
          "output_type": "display_data"
        }
      ],
      "source": [
        "FIG_SIZE = (14,8)\n",
        "# Visualize all of the classifiers                                                               \n",
        "for clf in clf_list:\n",
        "    x_graph = []\n",
        "    y_graph = []\n",
        "    for a, b in zip(train_feature_list, train_target_list):\n",
        "        y_graph.append(clf_test_roc_score(clf, a, b, x_te, y_test))\n",
        "        x_graph.append(len(a))\n",
        "    plt.scatter(x_graph,y_graph)\n",
        "    plt.plot(x_graph,y_graph, label = clf.__class__.__name__)\n",
        "\n",
        "plt.title('Comparison of Different Classifiers')\n",
        "plt.xlabel('Training Size')\n",
        "plt.ylabel('ROC_AUC score on test set')\n",
        "plt.legend(bbox_to_anchor=(1.6, 1.05))\n",
        "plt.figure(figsize=FIG_SIZE)             \n",
        "plt.show() "
      ]
    },
    {
      "cell_type": "markdown",
      "metadata": {
        "id": "FzPnzEjK8iFg",
        "papermill": {
          "duration": 0.05838,
          "end_time": "2021-03-26T06:32:37.932911",
          "exception": false,
          "start_time": "2021-03-26T06:32:37.874531",
          "status": "completed"
        },
        "tags": []
      },
      "source": [
        "Just as we thought Logistic Regression gives us the best accuracy. Its final score for the area under the ROC curve was 0.8704 and a sample size of ~40,000. Besides, it is the fastest. The training speed and prediction speed were 19.993s and 0.955s  for a sample size of 40,000. Since our model has to consider the accuracy and speed, the Logistic Regression algorithm represents the ideal model for us.\n",
        "\n",
        "Now, let's add values of scores to the review text and see if we can increase the accuracy of our model."
      ]
    },
    {
      "cell_type": "code",
      "execution_count": null,
      "metadata": {
        "colab": {
          "base_uri": "https://localhost:8080/"
        },
        "execution": {
          "iopub.execute_input": "2021-03-26T06:32:38.082751Z",
          "iopub.status.busy": "2021-03-26T06:32:38.071025Z",
          "iopub.status.idle": "2021-03-26T06:32:38.678174Z",
          "shell.execute_reply": "2021-03-26T06:32:38.677395Z"
        },
        "id": "Gfq2vjOo8iFh",
        "outputId": "c12d6a32-ac2f-4800-e3ed-27fd1311492a",
        "papermill": {
          "duration": 0.682578,
          "end_time": "2021-03-26T06:32:38.678330",
          "exception": false,
          "start_time": "2021-03-26T06:32:37.995752",
          "status": "completed"
        },
        "tags": []
      },
      "outputs": [
        {
          "data": {
            "text/plain": [
              "<226x1696 sparse matrix of type '<class 'numpy.float64'>'\n",
              "\twith 24169 stored elements in Compressed Sparse Row format>"
            ]
          },
          "execution_count": 22,
          "metadata": {},
          "output_type": "execute_result"
        }
      ],
      "source": [
        "#add Score column to features\n",
        "import scipy as scipy\n",
        "\n",
        "overall = np.array(list(df1.overall))\n",
        "overall = overall.reshape(features.shape[0], 1)\n",
        "\n",
        "features = scipy.sparse.hstack((features,scipy.sparse.csr_matrix(overall)))\n",
        "\n",
        "features = scipy.sparse.csr_matrix(features)\n",
        "features\n"
      ]
    },
    {
      "cell_type": "markdown",
      "metadata": {
        "id": "oCjXZS838iFh",
        "papermill": {
          "duration": 0.060039,
          "end_time": "2021-03-26T06:32:38.797441",
          "exception": false,
          "start_time": "2021-03-26T06:32:38.737402",
          "status": "completed"
        },
        "tags": []
      },
      "source": [
        "We can now split the dataset and try to optimize our initial model."
      ]
    },
    {
      "cell_type": "code",
      "execution_count": null,
      "metadata": {
        "execution": {
          "iopub.execute_input": "2021-03-26T06:32:38.924932Z",
          "iopub.status.busy": "2021-03-26T06:32:38.924195Z",
          "iopub.status.idle": "2021-03-26T06:32:38.969203Z",
          "shell.execute_reply": "2021-03-26T06:32:38.969897Z"
        },
        "id": "X2p5OzMG8iFi",
        "papermill": {
          "duration": 0.113115,
          "end_time": "2021-03-26T06:32:38.970093",
          "exception": false,
          "start_time": "2021-03-26T06:32:38.856978",
          "status": "completed"
        },
        "tags": []
      },
      "outputs": [],
      "source": [
        "X_train2, X_test2, y_train, y_test = train_test_split(features, df1['Helpful'], test_size=0.2, random_state=RAN_STATE)"
      ]
    },
    {
      "cell_type": "markdown",
      "metadata": {
        "id": "VgjNo1Fb8iFi",
        "papermill": {
          "duration": 0.06232,
          "end_time": "2021-03-26T06:32:39.092145",
          "exception": false,
          "start_time": "2021-03-26T06:32:39.029825",
          "status": "completed"
        },
        "tags": []
      },
      "source": [
        "Hyper-parameters are parameters that are not directly learned within estimators. In scikit-learn, they are passed as arguments to the constructor of the estimator classes. Hyperparameter tuning helps us in optimizing our model.\n",
        "\n",
        "\n",
        "We will now be applying Gridsearch and Cross-Validation techniques to optimize and hypertune our model.\n",
        "\n",
        "* **GridSearch:** Exhaustive search over specified parameter values for an estimator.\n",
        "\n",
        "* **Cross-Validation:** In the train-test split, we use only 20% for testing. The performance metric we get on that 20% test data may not be accurate. So Cross-Validation allows you to consume 100% of the data for training and testing both.\n",
        " \n"
      ]
    },
    {
      "cell_type": "code",
      "execution_count": null,
      "metadata": {
        "colab": {
          "base_uri": "https://localhost:8080/"
        },
        "execution": {
          "iopub.execute_input": "2021-03-26T06:32:39.225987Z",
          "iopub.status.busy": "2021-03-26T06:32:39.225288Z",
          "iopub.status.idle": "2021-03-26T06:35:09.525123Z",
          "shell.execute_reply": "2021-03-26T06:35:09.525923Z"
        },
        "id": "X04VpZ5Q8iFi",
        "outputId": "68b195f1-c340-4b16-a7c2-55f063001eb2",
        "papermill": {
          "duration": 150.371985,
          "end_time": "2021-03-26T06:35:09.526206",
          "exception": false,
          "start_time": "2021-03-26T06:32:39.154221",
          "status": "completed"
        },
        "tags": []
      },
      "outputs": [
        {
          "name": "stdout",
          "output_type": "stream",
          "text": [
            "Fitting grid search...\n",
            "Grid search fitted.\n"
          ]
        }
      ],
      "source": [
        "from sklearn.model_selection import GridSearchCV,cross_validate,StratifiedKFold\n",
        "#make the grid search object\n",
        "gs2 = GridSearchCV(\n",
        "    estimator=LogisticRegression(),\n",
        "    param_grid={'C': [10**i for i in range(-5,5)], 'class_weight': [None, 'balanced']},\n",
        "    cv=StratifiedKFold(n_splits=5),\n",
        "    scoring='roc_auc'\n",
        ")\n",
        "\n",
        "#fit the grid search object to our new dataset\n",
        "print ('Fitting grid search...')\n",
        "gs2.fit(X_train2, y_train)\n",
        "print (\"Grid search fitted.\")"
      ]
    },
    {
      "cell_type": "markdown",
      "metadata": {
        "id": "86ZhdbdH8iFj",
        "papermill": {
          "duration": 0.063403,
          "end_time": "2021-03-26T06:35:09.654915",
          "exception": false,
          "start_time": "2021-03-26T06:35:09.591512",
          "status": "completed"
        },
        "tags": []
      },
      "source": [
        "Let's the best estimator for our model."
      ]
    },
    {
      "cell_type": "code",
      "execution_count": null,
      "metadata": {
        "colab": {
          "base_uri": "https://localhost:8080/"
        },
        "execution": {
          "iopub.execute_input": "2021-03-26T06:35:09.789821Z",
          "iopub.status.busy": "2021-03-26T06:35:09.788966Z",
          "iopub.status.idle": "2021-03-26T06:35:09.794188Z",
          "shell.execute_reply": "2021-03-26T06:35:09.793395Z"
        },
        "id": "MXNDP4oO8iFj",
        "outputId": "67b43d2a-8bde-41b0-ac54-6d333f4ce079",
        "papermill": {
          "duration": 0.074277,
          "end_time": "2021-03-26T06:35:09.794355",
          "exception": false,
          "start_time": "2021-03-26T06:35:09.720078",
          "status": "completed"
        },
        "tags": []
      },
      "outputs": [
        {
          "data": {
            "text/plain": [
              "{'C': 1e-05, 'class_weight': None}"
            ]
          },
          "execution_count": 25,
          "metadata": {},
          "output_type": "execute_result"
        }
      ],
      "source": [
        "#print the grid search scores.\n",
        "gs2.best_params_"
      ]
    },
    {
      "cell_type": "markdown",
      "metadata": {
        "id": "pWjVK9L58iFk",
        "papermill": {
          "duration": 0.064395,
          "end_time": "2021-03-26T06:35:09.921117",
          "exception": false,
          "start_time": "2021-03-26T06:35:09.856722",
          "status": "completed"
        },
        "tags": []
      },
      "source": [
        "We can see our optimized classifier is a LogisticRession with a 'C' parameter of 1 and a 'class_weight' = 'None'. This is the same as default, meaning our optimization step did not change the parameters of our model. Let's now find our ROC_AUC Score."
      ]
    },
    {
      "cell_type": "code",
      "execution_count": null,
      "metadata": {
        "colab": {
          "base_uri": "https://localhost:8080/"
        },
        "execution": {
          "iopub.execute_input": "2021-03-26T06:35:10.057198Z",
          "iopub.status.busy": "2021-03-26T06:35:10.056024Z",
          "iopub.status.idle": "2021-03-26T06:35:10.073020Z",
          "shell.execute_reply": "2021-03-26T06:35:10.072028Z"
        },
        "id": "D7BuF8S48iFk",
        "outputId": "a5c04823-a4bb-4940-eda4-8632d424832b",
        "papermill": {
          "duration": 0.084388,
          "end_time": "2021-03-26T06:35:10.073208",
          "exception": false,
          "start_time": "2021-03-26T06:35:09.988820",
          "status": "completed"
        },
        "tags": []
      },
      "outputs": [
        {
          "name": "stdout",
          "output_type": "stream",
          "text": [
            "ROC_AUC Score: 0.9880952380952381\n"
          ]
        }
      ],
      "source": [
        "clf2 = gs2.best_estimator_\n",
        "probas =clf2.predict_proba(X_test2)\n",
        "\n",
        "\n",
        "# ROC/AUC score\n",
        "print ('ROC_AUC Score:',roc_auc_score(y_test, probas[:,1].T))"
      ]
    },
    {
      "cell_type": "markdown",
      "metadata": {
        "id": "rWmhwz6u8iFl",
        "papermill": {
          "duration": 0.068171,
          "end_time": "2021-03-26T06:35:10.210038",
          "exception": false,
          "start_time": "2021-03-26T06:35:10.141867",
          "status": "completed"
        },
        "tags": []
      },
      "source": [
        "Wow! 90 % ROC_AUC Score. That means our model has been trained well.\n",
        "\n",
        "Let's now plot the graph to find the ROC Curve for Helpful Rating of both TFIDF and TFIDF along with the overall score. "
      ]
    },
    {
      "cell_type": "code",
      "execution_count": null,
      "metadata": {
        "colab": {
          "base_uri": "https://localhost:8080/",
          "height": 530
        },
        "execution": {
          "iopub.execute_input": "2021-03-26T06:35:10.352276Z",
          "iopub.status.busy": "2021-03-26T06:35:10.351063Z",
          "iopub.status.idle": "2021-03-26T06:35:12.967344Z",
          "shell.execute_reply": "2021-03-26T06:35:12.966762Z"
        },
        "id": "6FUHQjJ88iFm",
        "outputId": "c6e11ff0-58e3-4910-9747-aab4187636d5",
        "papermill": {
          "duration": 2.692787,
          "end_time": "2021-03-26T06:35:12.967515",
          "exception": false,
          "start_time": "2021-03-26T06:35:10.274728",
          "status": "completed"
        },
        "tags": []
      },
      "outputs": [
        {
          "data": {
            "image/png": "[encoded data removed]",
            "text/plain": [
              "<Figure size 1008x576 with 1 Axes>"
            ]
          },
          "metadata": {
            "needs_background": "light"
          },
          "output_type": "display_data"
        },
        {
          "data": {
            "text/plain": [
              "<Figure size 1008x576 with 0 Axes>"
            ]
          },
          "metadata": {},
          "output_type": "display_data"
        }
      ],
      "source": [
        "\n",
        "clf = LogisticRegression()\n",
        "clf.fit(X_train,y_train)\n",
        "probas = clf.predict_proba(X_test)\n",
        "clf2 = gs2.best_estimator_\n",
        "probas2 =clf2.predict_proba(X_test2)\n",
        "plt.figure(figsize = FIG_SIZE)\n",
        "\n",
        "# plot graph to show roc_auc_score.\n",
        "plt.plot(roc_curve(y_test, probas[:,1])[0], roc_curve(y_test, probas[:,1])[1], label = 'TFIDF')\n",
        "plt.plot(roc_curve(y_test, probas2[:,1])[0], roc_curve(y_test, probas2[:,1])[1], label = 'TFIDF + overall')\n",
        "plt.title('ROC Curve for Helpful Rating')\n",
        "plt.grid()\n",
        "plt.xlabel('False Positive Rate (1 - Specificity)')\n",
        "plt.ylabel('True Positive Rate (Sensitivity)')\n",
        "\n",
        "plt.legend(bbox_to_anchor=(1.0, .5))\n",
        "plt.figure(figsize=FIG_SIZE)\n",
        "plt.show()"
      ]
    },
    {
      "cell_type": "markdown",
      "metadata": {
        "id": "H5-xRVIZ8iFm",
        "papermill": {
          "duration": 0.066603,
          "end_time": "2021-03-26T06:35:13.100985",
          "exception": false,
          "start_time": "2021-03-26T06:35:13.034382",
          "status": "completed"
        },
        "tags": []
      },
      "source": [
        "As we can see in the above ROC Curve, adding an overall score to TFIDF vectors would give us a higher Area Under Curve(AUC)."
      ]
    },
    {
      "cell_type": "markdown",
      "metadata": {
        "id": "BzLFfxiN8iFn",
        "papermill": {
          "duration": 0.070049,
          "end_time": "2021-03-26T06:35:13.235054",
          "exception": false,
          "start_time": "2021-03-26T06:35:13.165005",
          "status": "completed"
        },
        "tags": []
      },
      "source": [
        "Conclusion:\n",
        "--\n",
        "The important quality of this problem statement is the effect of introducing a new key feature to our model. Here, we mainly looked at the TFIDF features generated from Amazon's Electronic Reviews text and added the 'overall_rating' (star rating) that was given to the product by the reviewer. We used these features to predict how 'helpful' other users would find the review."
      ]
    },
    {
      "cell_type": "markdown",
      "metadata": {
        "id": "1-d8nphM8iFn",
        "papermill": {
          "duration": 0.068264,
          "end_time": "2021-03-26T06:35:13.372969",
          "exception": false,
          "start_time": "2021-03-26T06:35:13.304705",
          "status": "completed"
        },
        "tags": []
      },
      "source": []
    },
    {
      "cell_type": "markdown",
      "metadata": {
        "id": "JErvRreZ8iFo",
        "papermill": {
          "duration": 0.06637,
          "end_time": "2021-03-26T06:35:13.508451",
          "exception": false,
          "start_time": "2021-03-26T06:35:13.442081",
          "status": "completed"
        },
        "tags": []
      },
      "source": [
        "A Rough Overview\n",
        "--\n",
        "Marketing is an essential part of the business. Digital marketing was already in hype for the past few years but due to this pandemic, it has increased exponentially. Since a customer cannot physically check the product, he/she has to depend on reviews of the given product. \n",
        "\n",
        "Despite this there are some people who do not give genuine review or give a sarcastic review.\n",
        "\n",
        "\n",
        "Having such reviews displayed in forums hurts Amazon’s business since the major reason as stated above is that people are willing to buy consumer goods online without seeing the items themselves because they have access to other people's opinions of the item."
      ]
    },
    {
      "cell_type": "markdown",
      "metadata": {
        "id": "A_zgnJTu8iFp",
        "papermill": {
          "duration": 0.067433,
          "end_time": "2021-03-26T06:35:13.646007",
          "exception": false,
          "start_time": "2021-03-26T06:35:13.578574",
          "status": "completed"
        },
        "tags": []
      },
      "source": [
        "Problem Statement\n",
        "--\n",
        "The problem that is being addressed here is if Amazon Review is fake or not genuine. Sometimes some people give fake reviews on forums. This could harm the sale of the product if such a review came on top. \n",
        "\n",
        "By fake review I mean which is given a 5-star rating but in review text, the person gives a negative review and since it is rated 5 stars, so chances are that review would come on top of the forum. \n",
        "\n",
        "The possibility exists that such reviews be given by competitors to harm the sale of the product.\n",
        "\n",
        "The solution to this problem is to create a model using machine learning techniques that would classify given customer reviews based on sentiment analysis before they are posted on the top of the forum. This way fake reviews would not be shown on top of forums.\n",
        "\n",
        "The model will be trained on Amazon Reviews for Electronic Category to classify if a given review is genuine or not."
      ]
    },
    {
      "cell_type": "markdown",
      "metadata": {
        "id": "FsGfKHmP8iFp",
        "papermill": {
          "duration": 0.065219,
          "end_time": "2021-03-26T06:35:13.776034",
          "exception": false,
          "start_time": "2021-03-26T06:35:13.710815",
          "status": "completed"
        },
        "tags": []
      },
      "source": [
        "Let's see the given data."
      ]
    },
    {
      "cell_type": "code",
      "execution_count": null,
      "metadata": {
        "colab": {
          "base_uri": "https://localhost:8080/",
          "height": 206
        },
        "execution": {
          "iopub.execute_input": "2021-03-26T06:35:13.925858Z",
          "iopub.status.busy": "2021-03-26T06:35:13.925038Z",
          "iopub.status.idle": "2021-03-26T06:35:13.930739Z",
          "shell.execute_reply": "2021-03-26T06:35:13.930163Z"
        },
        "id": "bK6ulQkv8iFq",
        "outputId": "b463eee2-06bc-4edb-c177-3332acfcae3d",
        "papermill": {
          "duration": 0.089067,
          "end_time": "2021-03-26T06:35:13.930910",
          "exception": false,
          "start_time": "2021-03-26T06:35:13.841843",
          "status": "completed"
        },
        "tags": []
      },
      "outputs": [
        {
          "data": {
            "text/html": [
              "\n",
              "  <div id=\"df-2b2fe1a4-1fe0-4585-9295-870d9d9dce4e\">\n",
              "    <div class=\"colab-df-container\">\n",
              "      <div>\n",
              "<style scoped>\n",
              "    .dataframe tbody tr th:only-of-type {\n",
              "        vertical-align: middle;\n",
              "    }\n",
              "\n",
              "    .dataframe tbody tr th {\n",
              "        vertical-align: top;\n",
              "    }\n",
              "\n",
              "    .dataframe thead th {\n",
              "        text-align: right;\n",
              "    }\n",
              "</style>\n",
              "<table border=\"1\" class=\"dataframe\">\n",
              "  <thead>\n",
              "    <tr style=\"text-align: right;\">\n",
              "      <th></th>\n",
              "      <th>reviewerID</th>\n",
              "      <th>asin</th>\n",
              "      <th>reviewerName</th>\n",
              "      <th>helpful</th>\n",
              "      <th>reviewText</th>\n",
              "      <th>overall</th>\n",
              "      <th>summary</th>\n",
              "      <th>unixReviewTime</th>\n",
              "      <th>reviewTime</th>\n",
              "    </tr>\n",
              "  </thead>\n",
              "  <tbody>\n",
              "    <tr>\n",
              "      <th>0</th>\n",
              "      <td>AO94DHGC771SJ</td>\n",
              "      <td>0528881469</td>\n",
              "      <td>amazdnu</td>\n",
              "      <td>[0, 0]</td>\n",
              "      <td>we got this gps for my husband who is an otr o...</td>\n",
              "      <td>5</td>\n",
              "      <td>Gotta have GPS!</td>\n",
              "      <td>1370131200</td>\n",
              "      <td>06 2, 2013</td>\n",
              "    </tr>\n",
              "    <tr>\n",
              "      <th>1</th>\n",
              "      <td>AMO214LNFCEI4</td>\n",
              "      <td>0528881469</td>\n",
              "      <td>Amazon Customer</td>\n",
              "      <td>[12, 15]</td>\n",
              "      <td>im a professional otr truck driver and i bough...</td>\n",
              "      <td>1</td>\n",
              "      <td>Very Disappointed</td>\n",
              "      <td>1290643200</td>\n",
              "      <td>11 25, 2010</td>\n",
              "    </tr>\n",
              "    <tr>\n",
              "      <th>2</th>\n",
              "      <td>A3N7T0DY83Y4IG</td>\n",
              "      <td>0528881469</td>\n",
              "      <td>C. A. Freeman</td>\n",
              "      <td>[43, 45]</td>\n",
              "      <td>well what can i say ive had this unit in my tr...</td>\n",
              "      <td>3</td>\n",
              "      <td>1st impression</td>\n",
              "      <td>1283990400</td>\n",
              "      <td>09 9, 2010</td>\n",
              "    </tr>\n",
              "    <tr>\n",
              "      <th>3</th>\n",
              "      <td>A1H8PY3QHMQQA0</td>\n",
              "      <td>0528881469</td>\n",
              "      <td>Dave M. Shaw \"mack dave\"</td>\n",
              "      <td>[9, 10]</td>\n",
              "      <td>not going to write a long review even thought ...</td>\n",
              "      <td>2</td>\n",
              "      <td>Great grafics, POOR GPS</td>\n",
              "      <td>1290556800</td>\n",
              "      <td>11 24, 2010</td>\n",
              "    </tr>\n",
              "    <tr>\n",
              "      <th>4</th>\n",
              "      <td>A24EV6RXELQZ63</td>\n",
              "      <td>0528881469</td>\n",
              "      <td>Wayne Smith</td>\n",
              "      <td>[0, 0]</td>\n",
              "      <td>ive had mine for a year and here what we got i...</td>\n",
              "      <td>1</td>\n",
              "      <td>Major issues, only excuses for support</td>\n",
              "      <td>1317254400</td>\n",
              "      <td>09 29, 2011</td>\n",
              "    </tr>\n",
              "  </tbody>\n",
              "</table>\n",
              "</div>\n",
              "      <button class=\"colab-df-convert\" onclick=\"convertToInteractive('df-2b2fe1a4-1fe0-4585-9295-870d9d9dce4e')\"\n",
              "              title=\"Convert this dataframe to an interactive table.\"\n",
              "              style=\"display:none;\">\n",
              "        \n",
              "  <svg xmlns=\"http://www.w3.org/2000/svg\" height=\"24px\"viewBox=\"0 0 24 24\"\n",
              "       width=\"24px\">\n",
              "    <path d=\"M0 0h24v24H0V0z\" fill=\"none\"/>\n",
              "    <path d=\"M18.56 5.44l.94 2.06.94-2.06 2.06-.94-2.06-.94-.94-2.06-.94 2.06-2.06.94zm-11 1L8.5 8.5l.94-2.06 2.06-.94-2.06-.94L8.5 2.5l-.94 2.06-2.06.94zm10 10l.94 2.06.94-2.06 2.06-.94-2.06-.94-.94-2.06-.94 2.06-2.06.94z\"/><path d=\"M17.41 7.96l-1.37-1.37c-.4-.4-.92-.59-1.43-.59-.52 0-1.04.2-1.43.59L10.3 9.45l-7.72 7.72c-.78.78-.78 2.05 0 2.83L4 21.41c.39.39.9.59 1.41.59.51 0 1.02-.2 1.41-.59l7.78-7.78 2.81-2.81c.8-.78.8-2.07 0-2.86zM5.41 20L4 18.59l7.72-7.72 1.47 1.35L5.41 20z\"/>\n",
              "  </svg>\n",
              "      </button>\n",
              "      \n",
              "  <style>\n",
              "    .colab-df-container {\n",
              "      display:flex;\n",
              "      flex-wrap:wrap;\n",
              "      gap: 12px;\n",
              "    }\n",
              "\n",
              "    .colab-df-convert {\n",
              "      background-color: #E8F0FE;\n",
              "      border: none;\n",
              "      border-radius: 50%;\n",
              "      cursor: pointer;\n",
              "      display: none;\n",
              "      fill: #1967D2;\n",
              "      height: 32px;\n",
              "      padding: 0 0 0 0;\n",
              "      width: 32px;\n",
              "    }\n",
              "\n",
              "    .colab-df-convert:hover {\n",
              "      background-color: #E2EBFA;\n",
              "      box-shadow: 0px 1px 2px rgba(60, 64, 67, 0.3), 0px 1px 3px 1px rgba(60, 64, 67, 0.15);\n",
              "      fill: #174EA6;\n",
              "    }\n",
              "\n",
              "    [theme=dark] .colab-df-convert {\n",
              "      background-color: #3B4455;\n",
              "      fill: #D2E3FC;\n",
              "    }\n",
              "\n",
              "    [theme=dark] .colab-df-convert:hover {\n",
              "      background-color: #434B5C;\n",
              "      box-shadow: 0px 1px 3px 1px rgba(0, 0, 0, 0.15);\n",
              "      filter: drop-shadow(0px 1px 2px rgba(0, 0, 0, 0.3));\n",
              "      fill: #FFFFFF;\n",
              "    }\n",
              "  </style>\n",
              "\n",
              "      <script>\n",
              "        const buttonEl =\n",
              "          document.querySelector('#df-2b2fe1a4-1fe0-4585-9295-870d9d9dce4e button.colab-df-convert');\n",
              "        buttonEl.style.display =\n",
              "          google.colab.kernel.accessAllowed ? 'block' : 'none';\n",
              "\n",
              "        async function convertToInteractive(key) {\n",
              "          const element = document.querySelector('#df-2b2fe1a4-1fe0-4585-9295-870d9d9dce4e');\n",
              "          const dataTable =\n",
              "            await google.colab.kernel.invokeFunction('convertToInteractive',\n",
              "                                                     [key], {});\n",
              "          if (!dataTable) return;\n",
              "\n",
              "          const docLinkHtml = 'Like what you see? Visit the ' +\n",
              "            '<a target=\"_blank\" href=https://colab.research.google.com/notebooks/data_table.ipynb>data table notebook</a>'\n",
              "            + ' to learn more about interactive tables.';\n",
              "          element.innerHTML = '';\n",
              "          dataTable['output_type'] = 'display_data';\n",
              "          await google.colab.output.renderOutput(dataTable, element);\n",
              "          const docLink = document.createElement('div');\n",
              "          docLink.innerHTML = docLinkHtml;\n",
              "          element.appendChild(docLink);\n",
              "        }\n",
              "      </script>\n",
              "    </div>\n",
              "  </div>\n",
              "  "
            ],
            "text/plain": [
              "       reviewerID        asin              reviewerName   helpful  \\\n",
              "0   AO94DHGC771SJ  0528881469                   amazdnu    [0, 0]   \n",
              "1   AMO214LNFCEI4  0528881469           Amazon Customer  [12, 15]   \n",
              "2  A3N7T0DY83Y4IG  0528881469             C. A. Freeman  [43, 45]   \n",
              "3  A1H8PY3QHMQQA0  0528881469  Dave M. Shaw \"mack dave\"   [9, 10]   \n",
              "4  A24EV6RXELQZ63  0528881469               Wayne Smith    [0, 0]   \n",
              "\n",
              "                                          reviewText  overall  \\\n",
              "0  we got this gps for my husband who is an otr o...        5   \n",
              "1  im a professional otr truck driver and i bough...        1   \n",
              "2  well what can i say ive had this unit in my tr...        3   \n",
              "3  not going to write a long review even thought ...        2   \n",
              "4  ive had mine for a year and here what we got i...        1   \n",
              "\n",
              "                                  summary  unixReviewTime   reviewTime  \n",
              "0                         Gotta have GPS!      1370131200   06 2, 2013  \n",
              "1                       Very Disappointed      1290643200  11 25, 2010  \n",
              "2                          1st impression      1283990400   09 9, 2010  \n",
              "3                 Great grafics, POOR GPS      1290556800  11 24, 2010  \n",
              "4  Major issues, only excuses for support      1317254400  09 29, 2011  "
            ]
          },
          "execution_count": 28,
          "metadata": {},
          "output_type": "execute_result"
        }
      ],
      "source": [
        "data.head()"
      ]
    },
    {
      "cell_type": "markdown",
      "metadata": {
        "id": "Jj8cA2CZ8iFq",
        "papermill": {
          "duration": 0.065732,
          "end_time": "2021-03-26T06:35:14.062327",
          "exception": false,
          "start_time": "2021-03-26T06:35:13.996595",
          "status": "completed"
        },
        "tags": []
      },
      "source": [
        "Here, we are going to select **reviewText** and **overall** score rating since we going to classify reviews based on these two features."
      ]
    },
    {
      "cell_type": "code",
      "execution_count": null,
      "metadata": {
        "colab": {
          "base_uri": "https://localhost:8080/",
          "height": 363
        },
        "execution": {
          "iopub.execute_input": "2021-03-26T06:35:14.207339Z",
          "iopub.status.busy": "2021-03-26T06:35:14.206599Z",
          "iopub.status.idle": "2021-03-26T06:35:14.712280Z",
          "shell.execute_reply": "2021-03-26T06:35:14.710619Z"
        },
        "id": "FZHh9_gy8iFr",
        "outputId": "a97ea04b-f220-4874-9bd4-33ea7dbd8810",
        "papermill": {
          "duration": 0.581176,
          "end_time": "2021-03-26T06:35:14.712487",
          "exception": false,
          "start_time": "2021-03-26T06:35:14.131311",
          "status": "completed"
        },
        "tags": []
      },
      "outputs": [
        {
          "data": {
            "text/html": [
              "\n",
              "  <div id=\"df-6ea29703-bca4-4e87-97e0-8efa428b9300\">\n",
              "    <div class=\"colab-df-container\">\n",
              "      <div>\n",
              "<style scoped>\n",
              "    .dataframe tbody tr th:only-of-type {\n",
              "        vertical-align: middle;\n",
              "    }\n",
              "\n",
              "    .dataframe tbody tr th {\n",
              "        vertical-align: top;\n",
              "    }\n",
              "\n",
              "    .dataframe thead th {\n",
              "        text-align: right;\n",
              "    }\n",
              "</style>\n",
              "<table border=\"1\" class=\"dataframe\">\n",
              "  <thead>\n",
              "    <tr style=\"text-align: right;\">\n",
              "      <th></th>\n",
              "      <th>overall</th>\n",
              "      <th>reviewText</th>\n",
              "    </tr>\n",
              "  </thead>\n",
              "  <tbody>\n",
              "    <tr>\n",
              "      <th>0</th>\n",
              "      <td>5</td>\n",
              "      <td>we got this gps for my husband who is an otr o...</td>\n",
              "    </tr>\n",
              "    <tr>\n",
              "      <th>1</th>\n",
              "      <td>1</td>\n",
              "      <td>im a professional otr truck driver and i bough...</td>\n",
              "    </tr>\n",
              "    <tr>\n",
              "      <th>2</th>\n",
              "      <td>3</td>\n",
              "      <td>well what can i say ive had this unit in my tr...</td>\n",
              "    </tr>\n",
              "    <tr>\n",
              "      <th>3</th>\n",
              "      <td>2</td>\n",
              "      <td>not going to write a long review even thought ...</td>\n",
              "    </tr>\n",
              "    <tr>\n",
              "      <th>4</th>\n",
              "      <td>1</td>\n",
              "      <td>ive had mine for a year and here what we got i...</td>\n",
              "    </tr>\n",
              "    <tr>\n",
              "      <th>5</th>\n",
              "      <td>5</td>\n",
              "      <td>i am using this with a nook hd it work a descr...</td>\n",
              "    </tr>\n",
              "    <tr>\n",
              "      <th>6</th>\n",
              "      <td>2</td>\n",
              "      <td>the cable is very wobbly and sometimes disconn...</td>\n",
              "    </tr>\n",
              "    <tr>\n",
              "      <th>7</th>\n",
              "      <td>5</td>\n",
              "      <td>this adaptor is real easy to setup and use rig...</td>\n",
              "    </tr>\n",
              "    <tr>\n",
              "      <th>8</th>\n",
              "      <td>4</td>\n",
              "      <td>this adapter easily connects my nook hd to my ...</td>\n",
              "    </tr>\n",
              "    <tr>\n",
              "      <th>9</th>\n",
              "      <td>5</td>\n",
              "      <td>this product really work great but i found the...</td>\n",
              "    </tr>\n",
              "  </tbody>\n",
              "</table>\n",
              "</div>\n",
              "      <button class=\"colab-df-convert\" onclick=\"convertToInteractive('df-6ea29703-bca4-4e87-97e0-8efa428b9300')\"\n",
              "              title=\"Convert this dataframe to an interactive table.\"\n",
              "              style=\"display:none;\">\n",
              "        \n",
              "  <svg xmlns=\"http://www.w3.org/2000/svg\" height=\"24px\"viewBox=\"0 0 24 24\"\n",
              "       width=\"24px\">\n",
              "    <path d=\"M0 0h24v24H0V0z\" fill=\"none\"/>\n",
              "    <path d=\"M18.56 5.44l.94 2.06.94-2.06 2.06-.94-2.06-.94-.94-2.06-.94 2.06-2.06.94zm-11 1L8.5 8.5l.94-2.06 2.06-.94-2.06-.94L8.5 2.5l-.94 2.06-2.06.94zm10 10l.94 2.06.94-2.06 2.06-.94-2.06-.94-.94-2.06-.94 2.06-2.06.94z\"/><path d=\"M17.41 7.96l-1.37-1.37c-.4-.4-.92-.59-1.43-.59-.52 0-1.04.2-1.43.59L10.3 9.45l-7.72 7.72c-.78.78-.78 2.05 0 2.83L4 21.41c.39.39.9.59 1.41.59.51 0 1.02-.2 1.41-.59l7.78-7.78 2.81-2.81c.8-.78.8-2.07 0-2.86zM5.41 20L4 18.59l7.72-7.72 1.47 1.35L5.41 20z\"/>\n",
              "  </svg>\n",
              "      </button>\n",
              "      \n",
              "  <style>\n",
              "    .colab-df-container {\n",
              "      display:flex;\n",
              "      flex-wrap:wrap;\n",
              "      gap: 12px;\n",
              "    }\n",
              "\n",
              "    .colab-df-convert {\n",
              "      background-color: #E8F0FE;\n",
              "      border: none;\n",
              "      border-radius: 50%;\n",
              "      cursor: pointer;\n",
              "      display: none;\n",
              "      fill: #1967D2;\n",
              "      height: 32px;\n",
              "      padding: 0 0 0 0;\n",
              "      width: 32px;\n",
              "    }\n",
              "\n",
              "    .colab-df-convert:hover {\n",
              "      background-color: #E2EBFA;\n",
              "      box-shadow: 0px 1px 2px rgba(60, 64, 67, 0.3), 0px 1px 3px 1px rgba(60, 64, 67, 0.15);\n",
              "      fill: #174EA6;\n",
              "    }\n",
              "\n",
              "    [theme=dark] .colab-df-convert {\n",
              "      background-color: #3B4455;\n",
              "      fill: #D2E3FC;\n",
              "    }\n",
              "\n",
              "    [theme=dark] .colab-df-convert:hover {\n",
              "      background-color: #434B5C;\n",
              "      box-shadow: 0px 1px 3px 1px rgba(0, 0, 0, 0.15);\n",
              "      filter: drop-shadow(0px 1px 2px rgba(0, 0, 0, 0.3));\n",
              "      fill: #FFFFFF;\n",
              "    }\n",
              "  </style>\n",
              "\n",
              "      <script>\n",
              "        const buttonEl =\n",
              "          document.querySelector('#df-6ea29703-bca4-4e87-97e0-8efa428b9300 button.colab-df-convert');\n",
              "        buttonEl.style.display =\n",
              "          google.colab.kernel.accessAllowed ? 'block' : 'none';\n",
              "\n",
              "        async function convertToInteractive(key) {\n",
              "          const element = document.querySelector('#df-6ea29703-bca4-4e87-97e0-8efa428b9300');\n",
              "          const dataTable =\n",
              "            await google.colab.kernel.invokeFunction('convertToInteractive',\n",
              "                                                     [key], {});\n",
              "          if (!dataTable) return;\n",
              "\n",
              "          const docLinkHtml = 'Like what you see? Visit the ' +\n",
              "            '<a target=\"_blank\" href=https://colab.research.google.com/notebooks/data_table.ipynb>data table notebook</a>'\n",
              "            + ' to learn more about interactive tables.';\n",
              "          element.innerHTML = '';\n",
              "          dataTable['output_type'] = 'display_data';\n",
              "          await google.colab.output.renderOutput(dataTable, element);\n",
              "          const docLink = document.createElement('div');\n",
              "          docLink.innerHTML = docLinkHtml;\n",
              "          element.appendChild(docLink);\n",
              "        }\n",
              "      </script>\n",
              "    </div>\n",
              "  </div>\n",
              "  "
            ],
            "text/plain": [
              "   overall                                         reviewText\n",
              "0        5  we got this gps for my husband who is an otr o...\n",
              "1        1  im a professional otr truck driver and i bough...\n",
              "2        3  well what can i say ive had this unit in my tr...\n",
              "3        2  not going to write a long review even thought ...\n",
              "4        1  ive had mine for a year and here what we got i...\n",
              "5        5  i am using this with a nook hd it work a descr...\n",
              "6        2  the cable is very wobbly and sometimes disconn...\n",
              "7        5  this adaptor is real easy to setup and use rig...\n",
              "8        4  this adapter easily connects my nook hd to my ...\n",
              "9        5  this product really work great but i found the..."
            ]
          },
          "execution_count": 29,
          "metadata": {},
          "output_type": "execute_result"
        }
      ],
      "source": [
        "#select the columns\n",
        "df2 = data.iloc[:, [5,4]]\n",
        "df2.head(10)"
      ]
    },
    {
      "cell_type": "markdown",
      "metadata": {
        "id": "rqAqCLXc8iFs",
        "papermill": {
          "duration": 0.067488,
          "end_time": "2021-03-26T06:35:14.850853",
          "exception": false,
          "start_time": "2021-03-26T06:35:14.783365",
          "status": "completed"
        },
        "tags": []
      },
      "source": [
        "Now let's first classify score ratings as Positive, Negative, and Neutral.\n",
        "\n",
        "> * If the **score rating => 4 or 5**,we are taking it as **Positive**.\n",
        ">\n",
        "> * If the **score rating => 3**,we are taking it as **Neutral**.\n",
        ">\n",
        "> * And if the **score rating => 1 or 2**,we are taking it as **Negative**.\n",
        "\n",
        "Then we are saving the result in a column named **Overall_Sentiment**. This would tell us the sentiment of the review based on the star rating."
      ]
    },
    {
      "cell_type": "code",
      "execution_count": null,
      "metadata": {
        "colab": {
          "base_uri": "https://localhost:8080/",
          "height": 424
        },
        "execution": {
          "iopub.execute_input": "2021-03-26T06:35:14.990060Z",
          "iopub.status.busy": "2021-03-26T06:35:14.989076Z",
          "iopub.status.idle": "2021-03-26T06:35:36.450455Z",
          "shell.execute_reply": "2021-03-26T06:35:36.450979Z"
        },
        "id": "jAn8PrbV8iFs",
        "outputId": "c3ef8191-3985-4b4c-803a-7774ee67596d",
        "papermill": {
          "duration": 21.535047,
          "end_time": "2021-03-26T06:35:36.451198",
          "exception": false,
          "start_time": "2021-03-26T06:35:14.916151",
          "status": "completed"
        },
        "tags": []
      },
      "outputs": [
        {
          "data": {
            "text/html": [
              "\n",
              "  <div id=\"df-56cf1af8-351f-4e48-8c83-0e9abd495c00\">\n",
              "    <div class=\"colab-df-container\">\n",
              "      <div>\n",
              "<style scoped>\n",
              "    .dataframe tbody tr th:only-of-type {\n",
              "        vertical-align: middle;\n",
              "    }\n",
              "\n",
              "    .dataframe tbody tr th {\n",
              "        vertical-align: top;\n",
              "    }\n",
              "\n",
              "    .dataframe thead th {\n",
              "        text-align: right;\n",
              "    }\n",
              "</style>\n",
              "<table border=\"1\" class=\"dataframe\">\n",
              "  <thead>\n",
              "    <tr style=\"text-align: right;\">\n",
              "      <th></th>\n",
              "      <th>overall</th>\n",
              "      <th>reviewText</th>\n",
              "      <th>Overall_Sentiment</th>\n",
              "    </tr>\n",
              "  </thead>\n",
              "  <tbody>\n",
              "    <tr>\n",
              "      <th>0</th>\n",
              "      <td>5</td>\n",
              "      <td>we got this gps for my husband who is an otr o...</td>\n",
              "      <td>Positive</td>\n",
              "    </tr>\n",
              "    <tr>\n",
              "      <th>1</th>\n",
              "      <td>1</td>\n",
              "      <td>im a professional otr truck driver and i bough...</td>\n",
              "      <td>Negative</td>\n",
              "    </tr>\n",
              "    <tr>\n",
              "      <th>2</th>\n",
              "      <td>3</td>\n",
              "      <td>well what can i say ive had this unit in my tr...</td>\n",
              "      <td>Neutral</td>\n",
              "    </tr>\n",
              "    <tr>\n",
              "      <th>3</th>\n",
              "      <td>2</td>\n",
              "      <td>not going to write a long review even thought ...</td>\n",
              "      <td>Negative</td>\n",
              "    </tr>\n",
              "    <tr>\n",
              "      <th>4</th>\n",
              "      <td>1</td>\n",
              "      <td>ive had mine for a year and here what we got i...</td>\n",
              "      <td>Negative</td>\n",
              "    </tr>\n",
              "    <tr>\n",
              "      <th>...</th>\n",
              "      <td>...</td>\n",
              "      <td>...</td>\n",
              "      <td>...</td>\n",
              "    </tr>\n",
              "    <tr>\n",
              "      <th>3543</th>\n",
              "      <td>2</td>\n",
              "      <td>work fine a a basic set of earphone however th...</td>\n",
              "      <td>Negative</td>\n",
              "    </tr>\n",
              "    <tr>\n",
              "      <th>3544</th>\n",
              "      <td>5</td>\n",
              "      <td>if you want to go jogging or work out while li...</td>\n",
              "      <td>Positive</td>\n",
              "    </tr>\n",
              "    <tr>\n",
              "      <th>3545</th>\n",
              "      <td>2</td>\n",
              "      <td>i found these to be a waste of money and time ...</td>\n",
              "      <td>Negative</td>\n",
              "    </tr>\n",
              "    <tr>\n",
              "      <th>3546</th>\n",
              "      <td>1</td>\n",
              "      <td>i had a older version of this headphone that h...</td>\n",
              "      <td>Negative</td>\n",
              "    </tr>\n",
              "    <tr>\n",
              "      <th>3547</th>\n",
              "      <td>1</td>\n",
              "      <td>no matter what sale or deal there is or how ch...</td>\n",
              "      <td>Negative</td>\n",
              "    </tr>\n",
              "  </tbody>\n",
              "</table>\n",
              "<p>3545 rows × 3 columns</p>\n",
              "</div>\n",
              "      <button class=\"colab-df-convert\" onclick=\"convertToInteractive('df-56cf1af8-351f-4e48-8c83-0e9abd495c00')\"\n",
              "              title=\"Convert this dataframe to an interactive table.\"\n",
              "              style=\"display:none;\">\n",
              "        \n",
              "  <svg xmlns=\"http://www.w3.org/2000/svg\" height=\"24px\"viewBox=\"0 0 24 24\"\n",
              "       width=\"24px\">\n",
              "    <path d=\"M0 0h24v24H0V0z\" fill=\"none\"/>\n",
              "    <path d=\"M18.56 5.44l.94 2.06.94-2.06 2.06-.94-2.06-.94-.94-2.06-.94 2.06-2.06.94zm-11 1L8.5 8.5l.94-2.06 2.06-.94-2.06-.94L8.5 2.5l-.94 2.06-2.06.94zm10 10l.94 2.06.94-2.06 2.06-.94-2.06-.94-.94-2.06-.94 2.06-2.06.94z\"/><path d=\"M17.41 7.96l-1.37-1.37c-.4-.4-.92-.59-1.43-.59-.52 0-1.04.2-1.43.59L10.3 9.45l-7.72 7.72c-.78.78-.78 2.05 0 2.83L4 21.41c.39.39.9.59 1.41.59.51 0 1.02-.2 1.41-.59l7.78-7.78 2.81-2.81c.8-.78.8-2.07 0-2.86zM5.41 20L4 18.59l7.72-7.72 1.47 1.35L5.41 20z\"/>\n",
              "  </svg>\n",
              "      </button>\n",
              "      \n",
              "  <style>\n",
              "    .colab-df-container {\n",
              "      display:flex;\n",
              "      flex-wrap:wrap;\n",
              "      gap: 12px;\n",
              "    }\n",
              "\n",
              "    .colab-df-convert {\n",
              "      background-color: #E8F0FE;\n",
              "      border: none;\n",
              "      border-radius: 50%;\n",
              "      cursor: pointer;\n",
              "      display: none;\n",
              "      fill: #1967D2;\n",
              "      height: 32px;\n",
              "      padding: 0 0 0 0;\n",
              "      width: 32px;\n",
              "    }\n",
              "\n",
              "    .colab-df-convert:hover {\n",
              "      background-color: #E2EBFA;\n",
              "      box-shadow: 0px 1px 2px rgba(60, 64, 67, 0.3), 0px 1px 3px 1px rgba(60, 64, 67, 0.15);\n",
              "      fill: #174EA6;\n",
              "    }\n",
              "\n",
              "    [theme=dark] .colab-df-convert {\n",
              "      background-color: #3B4455;\n",
              "      fill: #D2E3FC;\n",
              "    }\n",
              "\n",
              "    [theme=dark] .colab-df-convert:hover {\n",
              "      background-color: #434B5C;\n",
              "      box-shadow: 0px 1px 3px 1px rgba(0, 0, 0, 0.15);\n",
              "      filter: drop-shadow(0px 1px 2px rgba(0, 0, 0, 0.3));\n",
              "      fill: #FFFFFF;\n",
              "    }\n",
              "  </style>\n",
              "\n",
              "      <script>\n",
              "        const buttonEl =\n",
              "          document.querySelector('#df-56cf1af8-351f-4e48-8c83-0e9abd495c00 button.colab-df-convert');\n",
              "        buttonEl.style.display =\n",
              "          google.colab.kernel.accessAllowed ? 'block' : 'none';\n",
              "\n",
              "        async function convertToInteractive(key) {\n",
              "          const element = document.querySelector('#df-56cf1af8-351f-4e48-8c83-0e9abd495c00');\n",
              "          const dataTable =\n",
              "            await google.colab.kernel.invokeFunction('convertToInteractive',\n",
              "                                                     [key], {});\n",
              "          if (!dataTable) return;\n",
              "\n",
              "          const docLinkHtml = 'Like what you see? Visit the ' +\n",
              "            '<a target=\"_blank\" href=https://colab.research.google.com/notebooks/data_table.ipynb>data table notebook</a>'\n",
              "            + ' to learn more about interactive tables.';\n",
              "          element.innerHTML = '';\n",
              "          dataTable['output_type'] = 'display_data';\n",
              "          await google.colab.output.renderOutput(dataTable, element);\n",
              "          const docLink = document.createElement('div');\n",
              "          docLink.innerHTML = docLinkHtml;\n",
              "          element.appendChild(docLink);\n",
              "        }\n",
              "      </script>\n",
              "    </div>\n",
              "  </div>\n",
              "  "
            ],
            "text/plain": [
              "      overall                                         reviewText  \\\n",
              "0           5  we got this gps for my husband who is an otr o...   \n",
              "1           1  im a professional otr truck driver and i bough...   \n",
              "2           3  well what can i say ive had this unit in my tr...   \n",
              "3           2  not going to write a long review even thought ...   \n",
              "4           1  ive had mine for a year and here what we got i...   \n",
              "...       ...                                                ...   \n",
              "3543        2  work fine a a basic set of earphone however th...   \n",
              "3544        5  if you want to go jogging or work out while li...   \n",
              "3545        2  i found these to be a waste of money and time ...   \n",
              "3546        1  i had a older version of this headphone that h...   \n",
              "3547        1  no matter what sale or deal there is or how ch...   \n",
              "\n",
              "     Overall_Sentiment  \n",
              "0             Positive  \n",
              "1             Negative  \n",
              "2              Neutral  \n",
              "3             Negative  \n",
              "4             Negative  \n",
              "...                ...  \n",
              "3543          Negative  \n",
              "3544          Positive  \n",
              "3545          Negative  \n",
              "3546          Negative  \n",
              "3547          Negative  \n",
              "\n",
              "[3545 rows x 3 columns]"
            ]
          },
          "execution_count": 30,
          "metadata": {},
          "output_type": "execute_result"
        }
      ],
      "source": [
        "def score_classify(x):\n",
        "    if x>3:\n",
        "        return 'Positive'\n",
        "    elif x<3:\n",
        "        return 'Negative'\n",
        "    else:\n",
        "        return 'Neutral'\n",
        "df2['Overall_Sentiment']=df2.apply(lambda x: score_classify(x['overall']),axis=1)\n",
        "df2"
      ]
    },
    {
      "cell_type": "markdown",
      "metadata": {
        "id": "C0bL64yn8iFt",
        "papermill": {
          "duration": 0.070312,
          "end_time": "2021-03-26T06:35:36.588837",
          "exception": false,
          "start_time": "2021-03-26T06:35:36.518525",
          "status": "completed"
        },
        "tags": []
      },
      "source": [
        "Now, let's find out how the number of Positive, Negative, and Neutral reviews."
      ]
    },
    {
      "cell_type": "code",
      "execution_count": null,
      "metadata": {
        "colab": {
          "base_uri": "https://localhost:8080/"
        },
        "execution": {
          "iopub.execute_input": "2021-03-26T06:35:37.116522Z",
          "iopub.status.busy": "2021-03-26T06:35:37.115694Z",
          "iopub.status.idle": "2021-03-26T06:35:37.128264Z",
          "shell.execute_reply": "2021-03-26T06:35:37.127463Z"
        },
        "id": "UW9Evr5O8iFt",
        "outputId": "2a83bde3-fbda-4f36-ef18-fb127fb2650f",
        "papermill": {
          "duration": 0.468663,
          "end_time": "2021-03-26T06:35:37.128467",
          "exception": false,
          "start_time": "2021-03-26T06:35:36.659804",
          "status": "completed"
        },
        "tags": []
      },
      "outputs": [
        {
          "data": {
            "text/plain": [
              "Positive    2835\n",
              "Negative     424\n",
              "Neutral      286\n",
              "Name: Overall_Sentiment, dtype: int64"
            ]
          },
          "execution_count": 31,
          "metadata": {},
          "output_type": "execute_result"
        }
      ],
      "source": [
        "df2.Overall_Sentiment.value_counts()"
      ]
    },
    {
      "cell_type": "markdown",
      "metadata": {
        "id": "_UNNtR378iFu",
        "papermill": {
          "duration": 0.06981,
          "end_time": "2021-03-26T06:35:37.265535",
          "exception": false,
          "start_time": "2021-03-26T06:35:37.195725",
          "status": "completed"
        },
        "tags": []
      },
      "source": [
        "Here we can see that 1354351 reviews are Positive,190693 are Negative while 142125 are Neutral.\n",
        "\n",
        "But it may also be possible that some data may be missing or null. \n",
        "\n",
        "So let's drop null values if there are any. Then recheck the number of reviews."
      ]
    },
    {
      "cell_type": "code",
      "execution_count": null,
      "metadata": {
        "colab": {
          "base_uri": "https://localhost:8080/"
        },
        "execution": {
          "iopub.execute_input": "2021-03-26T06:35:37.698234Z",
          "iopub.status.busy": "2021-03-26T06:35:37.697204Z",
          "iopub.status.idle": "2021-03-26T06:35:38.540163Z",
          "shell.execute_reply": "2021-03-26T06:35:38.539370Z"
        },
        "id": "oesF2KjK8iFu",
        "outputId": "d57313fa-7d93-4d45-c468-20c506130111",
        "papermill": {
          "duration": 1.204952,
          "end_time": "2021-03-26T06:35:38.540336",
          "exception": false,
          "start_time": "2021-03-26T06:35:37.335384",
          "status": "completed"
        },
        "tags": []
      },
      "outputs": [
        {
          "data": {
            "text/plain": [
              "Positive    2835\n",
              "Negative     424\n",
              "Neutral      286\n",
              "Name: Overall_Sentiment, dtype: int64"
            ]
          },
          "execution_count": 32,
          "metadata": {},
          "output_type": "execute_result"
        }
      ],
      "source": [
        "df2.dropna(\n",
        "    axis=0,\n",
        "    how='any',\n",
        "    thresh=None,\n",
        "    subset=None,\n",
        "    inplace=True\n",
        ")\n",
        "df2.Overall_Sentiment.value_counts()"
      ]
    },
    {
      "cell_type": "markdown",
      "metadata": {
        "id": "JgpoBjCT8iFv",
        "papermill": {
          "duration": 0.069622,
          "end_time": "2021-03-26T06:35:38.682917",
          "exception": false,
          "start_time": "2021-03-26T06:35:38.613295",
          "status": "completed"
        },
        "tags": []
      },
      "source": [
        "So we can see that there are no missing or null values.\n",
        "\n",
        "Let's now go for sentiment analysis of review text."
      ]
    },
    {
      "cell_type": "markdown",
      "metadata": {
        "id": "6u7yX53Y8iFw",
        "papermill": {
          "duration": 0.071341,
          "end_time": "2021-03-26T06:35:38.823386",
          "exception": false,
          "start_time": "2021-03-26T06:35:38.752045",
          "status": "completed"
        },
        "tags": []
      },
      "source": [
        "Sentiment analysis is a process in which we computationally analyze and identify opinions and judgments of a customer from a piece of text. You can understand if a piece of text is positive, negative, or neutral, based on their sentiment analysis.\n",
        "\n",
        "There are various types of sentiment analysis, but we are using aspect-based sentiment analysis here.\n",
        "\n",
        "Aspect-based sentiment analysis is generally for one or more aspects of a service or product. \n",
        "\n",
        "For example, if a company that sells mobile phones uses this type of sentiment analysis, it could be for one aspect of mobile phones – like battery life, processor, USF storage, etc. \n",
        "\n",
        "So they can understand how customers feel about specific attributes of the product. \n"
      ]
    },
    {
      "cell_type": "markdown",
      "metadata": {
        "id": "LqISc1pI8iFw",
        "papermill": {
          "duration": 0.084963,
          "end_time": "2021-03-26T06:35:38.977109",
          "exception": false,
          "start_time": "2021-03-26T06:35:38.892146",
          "status": "completed"
        },
        "tags": []
      },
      "source": [
        "We can implement aspect-based sentiment analysis in different ways. \n",
        "\n",
        "The most famous is Sentiment Intensity Analyzer(commonly known as SIA) from vaderSentiment. \n"
      ]
    },
    {
      "cell_type": "code",
      "execution_count": null,
      "metadata": {
        "colab": {
          "base_uri": "https://localhost:8080/",
          "height": 363
        },
        "execution": {
          "iopub.execute_input": "2021-03-26T06:35:39.222177Z",
          "iopub.status.busy": "2021-03-26T06:35:39.220865Z",
          "iopub.status.idle": "2021-03-26T07:03:30.110435Z",
          "shell.execute_reply": "2021-03-26T07:03:30.111302Z"
        },
        "id": "Sh16Dhr08iFx",
        "outputId": "35cda30a-e409-4b40-c76d-810c8521121c",
        "papermill": {
          "duration": 1671.041805,
          "end_time": "2021-03-26T07:03:30.112113",
          "exception": false,
          "start_time": "2021-03-26T06:35:39.070308",
          "status": "completed"
        },
        "tags": []
      },
      "outputs": [
        {
          "data": {
            "text/html": [
              "\n",
              "  <div id=\"df-8074a17f-e859-48f8-89d1-a50e3af25a4d\">\n",
              "    <div class=\"colab-df-container\">\n",
              "      <div>\n",
              "<style scoped>\n",
              "    .dataframe tbody tr th:only-of-type {\n",
              "        vertical-align: middle;\n",
              "    }\n",
              "\n",
              "    .dataframe tbody tr th {\n",
              "        vertical-align: top;\n",
              "    }\n",
              "\n",
              "    .dataframe thead th {\n",
              "        text-align: right;\n",
              "    }\n",
              "</style>\n",
              "<table border=\"1\" class=\"dataframe\">\n",
              "  <thead>\n",
              "    <tr style=\"text-align: right;\">\n",
              "      <th></th>\n",
              "      <th>overall</th>\n",
              "      <th>reviewText</th>\n",
              "      <th>Overall_Sentiment</th>\n",
              "      <th>Review_Sentiment</th>\n",
              "      <th>sentiment score</th>\n",
              "    </tr>\n",
              "  </thead>\n",
              "  <tbody>\n",
              "    <tr>\n",
              "      <th>0</th>\n",
              "      <td>5</td>\n",
              "      <td>we got this gps for my husband who is an otr o...</td>\n",
              "      <td>Positive</td>\n",
              "      <td>Positive</td>\n",
              "      <td>0.250000</td>\n",
              "    </tr>\n",
              "    <tr>\n",
              "      <th>1</th>\n",
              "      <td>1</td>\n",
              "      <td>im a professional otr truck driver and i bough...</td>\n",
              "      <td>Negative</td>\n",
              "      <td>Positive</td>\n",
              "      <td>0.062441</td>\n",
              "    </tr>\n",
              "    <tr>\n",
              "      <th>2</th>\n",
              "      <td>3</td>\n",
              "      <td>well what can i say ive had this unit in my tr...</td>\n",
              "      <td>Neutral</td>\n",
              "      <td>Positive</td>\n",
              "      <td>0.086977</td>\n",
              "    </tr>\n",
              "    <tr>\n",
              "      <th>3</th>\n",
              "      <td>2</td>\n",
              "      <td>not going to write a long review even thought ...</td>\n",
              "      <td>Negative</td>\n",
              "      <td>Positive</td>\n",
              "      <td>0.047284</td>\n",
              "    </tr>\n",
              "    <tr>\n",
              "      <th>4</th>\n",
              "      <td>1</td>\n",
              "      <td>ive had mine for a year and here what we got i...</td>\n",
              "      <td>Negative</td>\n",
              "      <td>Positive</td>\n",
              "      <td>0.002778</td>\n",
              "    </tr>\n",
              "    <tr>\n",
              "      <th>5</th>\n",
              "      <td>5</td>\n",
              "      <td>i am using this with a nook hd it work a descr...</td>\n",
              "      <td>Positive</td>\n",
              "      <td>Positive</td>\n",
              "      <td>1.000000</td>\n",
              "    </tr>\n",
              "    <tr>\n",
              "      <th>6</th>\n",
              "      <td>2</td>\n",
              "      <td>the cable is very wobbly and sometimes disconn...</td>\n",
              "      <td>Negative</td>\n",
              "      <td>Negative</td>\n",
              "      <td>-0.100000</td>\n",
              "    </tr>\n",
              "    <tr>\n",
              "      <th>7</th>\n",
              "      <td>5</td>\n",
              "      <td>this adaptor is real easy to setup and use rig...</td>\n",
              "      <td>Positive</td>\n",
              "      <td>Positive</td>\n",
              "      <td>0.274439</td>\n",
              "    </tr>\n",
              "    <tr>\n",
              "      <th>8</th>\n",
              "      <td>4</td>\n",
              "      <td>this adapter easily connects my nook hd to my ...</td>\n",
              "      <td>Positive</td>\n",
              "      <td>Positive</td>\n",
              "      <td>0.297718</td>\n",
              "    </tr>\n",
              "    <tr>\n",
              "      <th>9</th>\n",
              "      <td>5</td>\n",
              "      <td>this product really work great but i found the...</td>\n",
              "      <td>Positive</td>\n",
              "      <td>Positive</td>\n",
              "      <td>0.212487</td>\n",
              "    </tr>\n",
              "  </tbody>\n",
              "</table>\n",
              "</div>\n",
              "      <button class=\"colab-df-convert\" onclick=\"convertToInteractive('df-8074a17f-e859-48f8-89d1-a50e3af25a4d')\"\n",
              "              title=\"Convert this dataframe to an interactive table.\"\n",
              "              style=\"display:none;\">\n",
              "        \n",
              "  <svg xmlns=\"http://www.w3.org/2000/svg\" height=\"24px\"viewBox=\"0 0 24 24\"\n",
              "       width=\"24px\">\n",
              "    <path d=\"M0 0h24v24H0V0z\" fill=\"none\"/>\n",
              "    <path d=\"M18.56 5.44l.94 2.06.94-2.06 2.06-.94-2.06-.94-.94-2.06-.94 2.06-2.06.94zm-11 1L8.5 8.5l.94-2.06 2.06-.94-2.06-.94L8.5 2.5l-.94 2.06-2.06.94zm10 10l.94 2.06.94-2.06 2.06-.94-2.06-.94-.94-2.06-.94 2.06-2.06.94z\"/><path d=\"M17.41 7.96l-1.37-1.37c-.4-.4-.92-.59-1.43-.59-.52 0-1.04.2-1.43.59L10.3 9.45l-7.72 7.72c-.78.78-.78 2.05 0 2.83L4 21.41c.39.39.9.59 1.41.59.51 0 1.02-.2 1.41-.59l7.78-7.78 2.81-2.81c.8-.78.8-2.07 0-2.86zM5.41 20L4 18.59l7.72-7.72 1.47 1.35L5.41 20z\"/>\n",
              "  </svg>\n",
              "      </button>\n",
              "      \n",
              "  <style>\n",
              "    .colab-df-container {\n",
              "      display:flex;\n",
              "      flex-wrap:wrap;\n",
              "      gap: 12px;\n",
              "    }\n",
              "\n",
              "    .colab-df-convert {\n",
              "      background-color: #E8F0FE;\n",
              "      border: none;\n",
              "      border-radius: 50%;\n",
              "      cursor: pointer;\n",
              "      display: none;\n",
              "      fill: #1967D2;\n",
              "      height: 32px;\n",
              "      padding: 0 0 0 0;\n",
              "      width: 32px;\n",
              "    }\n",
              "\n",
              "    .colab-df-convert:hover {\n",
              "      background-color: #E2EBFA;\n",
              "      box-shadow: 0px 1px 2px rgba(60, 64, 67, 0.3), 0px 1px 3px 1px rgba(60, 64, 67, 0.15);\n",
              "      fill: #174EA6;\n",
              "    }\n",
              "\n",
              "    [theme=dark] .colab-df-convert {\n",
              "      background-color: #3B4455;\n",
              "      fill: #D2E3FC;\n",
              "    }\n",
              "\n",
              "    [theme=dark] .colab-df-convert:hover {\n",
              "      background-color: #434B5C;\n",
              "      box-shadow: 0px 1px 3px 1px rgba(0, 0, 0, 0.15);\n",
              "      filter: drop-shadow(0px 1px 2px rgba(0, 0, 0, 0.3));\n",
              "      fill: #FFFFFF;\n",
              "    }\n",
              "  </style>\n",
              "\n",
              "      <script>\n",
              "        const buttonEl =\n",
              "          document.querySelector('#df-8074a17f-e859-48f8-89d1-a50e3af25a4d button.colab-df-convert');\n",
              "        buttonEl.style.display =\n",
              "          google.colab.kernel.accessAllowed ? 'block' : 'none';\n",
              "\n",
              "        async function convertToInteractive(key) {\n",
              "          const element = document.querySelector('#df-8074a17f-e859-48f8-89d1-a50e3af25a4d');\n",
              "          const dataTable =\n",
              "            await google.colab.kernel.invokeFunction('convertToInteractive',\n",
              "                                                     [key], {});\n",
              "          if (!dataTable) return;\n",
              "\n",
              "          const docLinkHtml = 'Like what you see? Visit the ' +\n",
              "            '<a target=\"_blank\" href=https://colab.research.google.com/notebooks/data_table.ipynb>data table notebook</a>'\n",
              "            + ' to learn more about interactive tables.';\n",
              "          element.innerHTML = '';\n",
              "          dataTable['output_type'] = 'display_data';\n",
              "          await google.colab.output.renderOutput(dataTable, element);\n",
              "          const docLink = document.createElement('div');\n",
              "          docLink.innerHTML = docLinkHtml;\n",
              "          element.appendChild(docLink);\n",
              "        }\n",
              "      </script>\n",
              "    </div>\n",
              "  </div>\n",
              "  "
            ],
            "text/plain": [
              "   overall                                         reviewText  \\\n",
              "0        5  we got this gps for my husband who is an otr o...   \n",
              "1        1  im a professional otr truck driver and i bough...   \n",
              "2        3  well what can i say ive had this unit in my tr...   \n",
              "3        2  not going to write a long review even thought ...   \n",
              "4        1  ive had mine for a year and here what we got i...   \n",
              "5        5  i am using this with a nook hd it work a descr...   \n",
              "6        2  the cable is very wobbly and sometimes disconn...   \n",
              "7        5  this adaptor is real easy to setup and use rig...   \n",
              "8        4  this adapter easily connects my nook hd to my ...   \n",
              "9        5  this product really work great but i found the...   \n",
              "\n",
              "  Overall_Sentiment Review_Sentiment  sentiment score  \n",
              "0          Positive         Positive         0.250000  \n",
              "1          Negative         Positive         0.062441  \n",
              "2           Neutral         Positive         0.086977  \n",
              "3          Negative         Positive         0.047284  \n",
              "4          Negative         Positive         0.002778  \n",
              "5          Positive         Positive         1.000000  \n",
              "6          Negative         Negative        -0.100000  \n",
              "7          Positive         Positive         0.274439  \n",
              "8          Positive         Positive         0.297718  \n",
              "9          Positive         Positive         0.212487  "
            ]
          },
          "metadata": {},
          "output_type": "display_data"
        }
      ],
      "source": [
        "from textblob import TextBlob\n",
        "\n",
        "sentiment_score_list = []\n",
        "sentiment_label_list = []\n",
        "\n",
        "for i in df2['reviewText'].values.tolist():\n",
        "    sentiment_text=TextBlob(i)\n",
        "    sentiment_score = sentiment_text.sentiment.polarity\n",
        "    #print(sentiment_score)\n",
        "\n",
        "    if sentiment_score > 0:\n",
        "        sentiment_score_list.append(sentiment_score)\n",
        "        sentiment_label_list.append('Positive')\n",
        "    elif sentiment_score < 0:\n",
        "        sentiment_score_list.append(sentiment_score)\n",
        "        sentiment_label_list.append('Negative')\n",
        "    else:\n",
        "        sentiment_score_list.append(sentiment_score)\n",
        "        sentiment_label_list.append('Neutral')\n",
        "    \n",
        "df2['Review_Sentiment'] = sentiment_label_list\n",
        "df2['sentiment score'] = sentiment_score_list\n",
        "\n",
        "display(df2.head(10))"
      ]
    },
    {
      "cell_type": "markdown",
      "metadata": {
        "id": "6M6HFi7Z8iFy",
        "papermill": {
          "duration": 0.071076,
          "end_time": "2021-03-26T07:03:30.258447",
          "exception": false,
          "start_time": "2021-03-26T07:03:30.187371",
          "status": "completed"
        },
        "tags": []
      },
      "source": [
        "We can see that some reviews are of Neutral, sentiment based on star rating bit are Positive, based on the sentiment of review text.\n",
        "\n",
        "Such reviews may be harmful to our model as they could be classified wrongly.\n",
        "\n",
        "So we are removing all Neutral reviews."
      ]
    },
    {
      "cell_type": "code",
      "execution_count": null,
      "metadata": {
        "execution": {
          "iopub.execute_input": "2021-03-26T07:03:30.656642Z",
          "iopub.status.busy": "2021-03-26T07:03:30.407778Z",
          "iopub.status.idle": "2021-03-26T07:03:31.393499Z",
          "shell.execute_reply": "2021-03-26T07:03:31.392699Z"
        },
        "id": "jr2_ic828iFy",
        "papermill": {
          "duration": 1.06475,
          "end_time": "2021-03-26T07:03:31.393679",
          "exception": false,
          "start_time": "2021-03-26T07:03:30.328929",
          "status": "completed"
        },
        "tags": []
      },
      "outputs": [],
      "source": [
        "before=df2.shape[0]\n",
        "df2 = df2[df2.Overall_Sentiment != 'Neutral']\n",
        "df2 = df2[df2.Review_Sentiment != 'Neutral']\n",
        "df2.head(10)\n",
        "after=df2.shape[0]\n",
        "#EDA for finding how many neutral labels have been removed"
      ]
    },
    {
      "cell_type": "markdown",
      "metadata": {
        "id": "yFGV96sN8iFz",
        "papermill": {
          "duration": 0.073128,
          "end_time": "2021-03-26T07:03:31.542949",
          "exception": false,
          "start_time": "2021-03-26T07:03:31.469821",
          "status": "completed"
        },
        "tags": []
      },
      "source": [
        "Now let's find out how many Neutral reviews we have removed."
      ]
    },
    {
      "cell_type": "code",
      "execution_count": null,
      "metadata": {
        "colab": {
          "base_uri": "https://localhost:8080/"
        },
        "execution": {
          "iopub.execute_input": "2021-03-26T07:03:31.702894Z",
          "iopub.status.busy": "2021-03-26T07:03:31.700834Z",
          "iopub.status.idle": "2021-03-26T07:03:31.709816Z",
          "shell.execute_reply": "2021-03-26T07:03:31.707399Z"
        },
        "id": "VxMFDUHo8iFz",
        "outputId": "6d412de9-c7e7-48c6-cbfb-4f4b98638eac",
        "papermill": {
          "duration": 0.092989,
          "end_time": "2021-03-26T07:03:31.710300",
          "exception": false,
          "start_time": "2021-03-26T07:03:31.617311",
          "status": "completed"
        },
        "tags": []
      },
      "outputs": [
        {
          "name": "stdout",
          "output_type": "stream",
          "text": [
            "The number of neutral labels have been removed : 391\n"
          ]
        }
      ],
      "source": [
        "print(\"The number of neutral labels have been removed : {}\".format(before-after))"
      ]
    },
    {
      "cell_type": "markdown",
      "metadata": {
        "id": "aTRIqKch8iF0",
        "papermill": {
          "duration": 0.070383,
          "end_time": "2021-03-26T07:03:31.852362",
          "exception": false,
          "start_time": "2021-03-26T07:03:31.781979",
          "status": "completed"
        },
        "tags": []
      },
      "source": [
        "Wow! That is a lot of reviews.\n",
        "\n",
        "Now, let's classify reviews as true or false.\n",
        "\n",
        "The true review would one in which the sentiment of star rating matches the sentiment of review text.\n",
        "\n",
        " If it does not match, then we could say that review is false."
      ]
    },
    {
      "cell_type": "code",
      "execution_count": null,
      "metadata": {
        "colab": {
          "base_uri": "https://localhost:8080/",
          "height": 206
        },
        "execution": {
          "iopub.execute_input": "2021-03-26T07:03:32.307741Z",
          "iopub.status.busy": "2021-03-26T07:03:32.305849Z",
          "iopub.status.idle": "2021-03-26T07:03:32.332650Z",
          "shell.execute_reply": "2021-03-26T07:03:32.333167Z"
        },
        "id": "pat2UTSw8iF0",
        "outputId": "e6a78c85-5a62-4603-b65d-4d8bf2e6ef64",
        "papermill": {
          "duration": 0.406297,
          "end_time": "2021-03-26T07:03:32.333436",
          "exception": false,
          "start_time": "2021-03-26T07:03:31.927139",
          "status": "completed"
        },
        "tags": []
      },
      "outputs": [
        {
          "data": {
            "text/html": [
              "\n",
              "  <div id=\"df-1ab0c269-bbe9-4a59-988f-4094932b0428\">\n",
              "    <div class=\"colab-df-container\">\n",
              "      <div>\n",
              "<style scoped>\n",
              "    .dataframe tbody tr th:only-of-type {\n",
              "        vertical-align: middle;\n",
              "    }\n",
              "\n",
              "    .dataframe tbody tr th {\n",
              "        vertical-align: top;\n",
              "    }\n",
              "\n",
              "    .dataframe thead th {\n",
              "        text-align: right;\n",
              "    }\n",
              "</style>\n",
              "<table border=\"1\" class=\"dataframe\">\n",
              "  <thead>\n",
              "    <tr style=\"text-align: right;\">\n",
              "      <th></th>\n",
              "      <th>overall</th>\n",
              "      <th>reviewText</th>\n",
              "      <th>Overall_Sentiment</th>\n",
              "      <th>Review_Sentiment</th>\n",
              "      <th>sentiment score</th>\n",
              "      <th>result</th>\n",
              "    </tr>\n",
              "  </thead>\n",
              "  <tbody>\n",
              "    <tr>\n",
              "      <th>0</th>\n",
              "      <td>5</td>\n",
              "      <td>we got this gps for my husband who is an otr o...</td>\n",
              "      <td>Positive</td>\n",
              "      <td>Positive</td>\n",
              "      <td>0.250000</td>\n",
              "      <td>True</td>\n",
              "    </tr>\n",
              "    <tr>\n",
              "      <th>1</th>\n",
              "      <td>1</td>\n",
              "      <td>im a professional otr truck driver and i bough...</td>\n",
              "      <td>Negative</td>\n",
              "      <td>Positive</td>\n",
              "      <td>0.062441</td>\n",
              "      <td>False</td>\n",
              "    </tr>\n",
              "    <tr>\n",
              "      <th>3</th>\n",
              "      <td>2</td>\n",
              "      <td>not going to write a long review even thought ...</td>\n",
              "      <td>Negative</td>\n",
              "      <td>Positive</td>\n",
              "      <td>0.047284</td>\n",
              "      <td>False</td>\n",
              "    </tr>\n",
              "    <tr>\n",
              "      <th>4</th>\n",
              "      <td>1</td>\n",
              "      <td>ive had mine for a year and here what we got i...</td>\n",
              "      <td>Negative</td>\n",
              "      <td>Positive</td>\n",
              "      <td>0.002778</td>\n",
              "      <td>False</td>\n",
              "    </tr>\n",
              "    <tr>\n",
              "      <th>5</th>\n",
              "      <td>5</td>\n",
              "      <td>i am using this with a nook hd it work a descr...</td>\n",
              "      <td>Positive</td>\n",
              "      <td>Positive</td>\n",
              "      <td>1.000000</td>\n",
              "      <td>True</td>\n",
              "    </tr>\n",
              "  </tbody>\n",
              "</table>\n",
              "</div>\n",
              "      <button class=\"colab-df-convert\" onclick=\"convertToInteractive('df-1ab0c269-bbe9-4a59-988f-4094932b0428')\"\n",
              "              title=\"Convert this dataframe to an interactive table.\"\n",
              "              style=\"display:none;\">\n",
              "        \n",
              "  <svg xmlns=\"http://www.w3.org/2000/svg\" height=\"24px\"viewBox=\"0 0 24 24\"\n",
              "       width=\"24px\">\n",
              "    <path d=\"M0 0h24v24H0V0z\" fill=\"none\"/>\n",
              "    <path d=\"M18.56 5.44l.94 2.06.94-2.06 2.06-.94-2.06-.94-.94-2.06-.94 2.06-2.06.94zm-11 1L8.5 8.5l.94-2.06 2.06-.94-2.06-.94L8.5 2.5l-.94 2.06-2.06.94zm10 10l.94 2.06.94-2.06 2.06-.94-2.06-.94-.94-2.06-.94 2.06-2.06.94z\"/><path d=\"M17.41 7.96l-1.37-1.37c-.4-.4-.92-.59-1.43-.59-.52 0-1.04.2-1.43.59L10.3 9.45l-7.72 7.72c-.78.78-.78 2.05 0 2.83L4 21.41c.39.39.9.59 1.41.59.51 0 1.02-.2 1.41-.59l7.78-7.78 2.81-2.81c.8-.78.8-2.07 0-2.86zM5.41 20L4 18.59l7.72-7.72 1.47 1.35L5.41 20z\"/>\n",
              "  </svg>\n",
              "      </button>\n",
              "      \n",
              "  <style>\n",
              "    .colab-df-container {\n",
              "      display:flex;\n",
              "      flex-wrap:wrap;\n",
              "      gap: 12px;\n",
              "    }\n",
              "\n",
              "    .colab-df-convert {\n",
              "      background-color: #E8F0FE;\n",
              "      border: none;\n",
              "      border-radius: 50%;\n",
              "      cursor: pointer;\n",
              "      display: none;\n",
              "      fill: #1967D2;\n",
              "      height: 32px;\n",
              "      padding: 0 0 0 0;\n",
              "      width: 32px;\n",
              "    }\n",
              "\n",
              "    .colab-df-convert:hover {\n",
              "      background-color: #E2EBFA;\n",
              "      box-shadow: 0px 1px 2px rgba(60, 64, 67, 0.3), 0px 1px 3px 1px rgba(60, 64, 67, 0.15);\n",
              "      fill: #174EA6;\n",
              "    }\n",
              "\n",
              "    [theme=dark] .colab-df-convert {\n",
              "      background-color: #3B4455;\n",
              "      fill: #D2E3FC;\n",
              "    }\n",
              "\n",
              "    [theme=dark] .colab-df-convert:hover {\n",
              "      background-color: #434B5C;\n",
              "      box-shadow: 0px 1px 3px 1px rgba(0, 0, 0, 0.15);\n",
              "      filter: drop-shadow(0px 1px 2px rgba(0, 0, 0, 0.3));\n",
              "      fill: #FFFFFF;\n",
              "    }\n",
              "  </style>\n",
              "\n",
              "      <script>\n",
              "        const buttonEl =\n",
              "          document.querySelector('#df-1ab0c269-bbe9-4a59-988f-4094932b0428 button.colab-df-convert');\n",
              "        buttonEl.style.display =\n",
              "          google.colab.kernel.accessAllowed ? 'block' : 'none';\n",
              "\n",
              "        async function convertToInteractive(key) {\n",
              "          const element = document.querySelector('#df-1ab0c269-bbe9-4a59-988f-4094932b0428');\n",
              "          const dataTable =\n",
              "            await google.colab.kernel.invokeFunction('convertToInteractive',\n",
              "                                                     [key], {});\n",
              "          if (!dataTable) return;\n",
              "\n",
              "          const docLinkHtml = 'Like what you see? Visit the ' +\n",
              "            '<a target=\"_blank\" href=https://colab.research.google.com/notebooks/data_table.ipynb>data table notebook</a>'\n",
              "            + ' to learn more about interactive tables.';\n",
              "          element.innerHTML = '';\n",
              "          dataTable['output_type'] = 'display_data';\n",
              "          await google.colab.output.renderOutput(dataTable, element);\n",
              "          const docLink = document.createElement('div');\n",
              "          docLink.innerHTML = docLinkHtml;\n",
              "          element.appendChild(docLink);\n",
              "        }\n",
              "      </script>\n",
              "    </div>\n",
              "  </div>\n",
              "  "
            ],
            "text/plain": [
              "   overall                                         reviewText  \\\n",
              "0        5  we got this gps for my husband who is an otr o...   \n",
              "1        1  im a professional otr truck driver and i bough...   \n",
              "3        2  not going to write a long review even thought ...   \n",
              "4        1  ive had mine for a year and here what we got i...   \n",
              "5        5  i am using this with a nook hd it work a descr...   \n",
              "\n",
              "  Overall_Sentiment Review_Sentiment  sentiment score  result  \n",
              "0          Positive         Positive         0.250000    True  \n",
              "1          Negative         Positive         0.062441   False  \n",
              "3          Negative         Positive         0.047284   False  \n",
              "4          Negative         Positive         0.002778   False  \n",
              "5          Positive         Positive         1.000000    True  "
            ]
          },
          "execution_count": 36,
          "metadata": {},
          "output_type": "execute_result"
        }
      ],
      "source": [
        "comparison_column = np.where(df2[\"Overall_Sentiment\"] == df2[\"Review_Sentiment\"], True, False)\n",
        "df2[\"result\"] = comparison_column\n",
        "df2.head()"
      ]
    },
    {
      "cell_type": "markdown",
      "metadata": {
        "id": "pOvY8Mh48iF1",
        "papermill": {
          "duration": 0.073025,
          "end_time": "2021-03-26T07:03:32.484618",
          "exception": false,
          "start_time": "2021-03-26T07:03:32.411593",
          "status": "completed"
        },
        "tags": []
      },
      "source": [
        "Now, let's find the total number of all the fake reviews. \n",
        "\n",
        "And also see some as an example."
      ]
    },
    {
      "cell_type": "code",
      "execution_count": null,
      "metadata": {
        "colab": {
          "base_uri": "https://localhost:8080/",
          "height": 223
        },
        "execution": {
          "iopub.execute_input": "2021-03-26T07:03:32.650056Z",
          "iopub.status.busy": "2021-03-26T07:03:32.649189Z",
          "iopub.status.idle": "2021-03-26T07:03:32.704323Z",
          "shell.execute_reply": "2021-03-26T07:03:32.703039Z"
        },
        "id": "bwVZmSM78iF1",
        "outputId": "d0e8cdaf-2a92-4125-8eb0-2a6bfbc601be",
        "papermill": {
          "duration": 0.139905,
          "end_time": "2021-03-26T07:03:32.704601",
          "exception": false,
          "start_time": "2021-03-26T07:03:32.564696",
          "status": "completed"
        },
        "tags": []
      },
      "outputs": [
        {
          "name": "stdout",
          "output_type": "stream",
          "text": [
            "(459, 6)\n"
          ]
        },
        {
          "data": {
            "text/html": [
              "\n",
              "  <div id=\"df-625cccc2-de8d-44e3-b89f-e782c6c7b1e5\">\n",
              "    <div class=\"colab-df-container\">\n",
              "      <div>\n",
              "<style scoped>\n",
              "    .dataframe tbody tr th:only-of-type {\n",
              "        vertical-align: middle;\n",
              "    }\n",
              "\n",
              "    .dataframe tbody tr th {\n",
              "        vertical-align: top;\n",
              "    }\n",
              "\n",
              "    .dataframe thead th {\n",
              "        text-align: right;\n",
              "    }\n",
              "</style>\n",
              "<table border=\"1\" class=\"dataframe\">\n",
              "  <thead>\n",
              "    <tr style=\"text-align: right;\">\n",
              "      <th></th>\n",
              "      <th>overall</th>\n",
              "      <th>reviewText</th>\n",
              "      <th>Overall_Sentiment</th>\n",
              "      <th>Review_Sentiment</th>\n",
              "      <th>sentiment score</th>\n",
              "      <th>result</th>\n",
              "    </tr>\n",
              "  </thead>\n",
              "  <tbody>\n",
              "    <tr>\n",
              "      <th>1</th>\n",
              "      <td>1</td>\n",
              "      <td>im a professional otr truck driver and i bough...</td>\n",
              "      <td>Negative</td>\n",
              "      <td>Positive</td>\n",
              "      <td>0.062441</td>\n",
              "      <td>False</td>\n",
              "    </tr>\n",
              "    <tr>\n",
              "      <th>3</th>\n",
              "      <td>2</td>\n",
              "      <td>not going to write a long review even thought ...</td>\n",
              "      <td>Negative</td>\n",
              "      <td>Positive</td>\n",
              "      <td>0.047284</td>\n",
              "      <td>False</td>\n",
              "    </tr>\n",
              "    <tr>\n",
              "      <th>4</th>\n",
              "      <td>1</td>\n",
              "      <td>ive had mine for a year and here what we got i...</td>\n",
              "      <td>Negative</td>\n",
              "      <td>Positive</td>\n",
              "      <td>0.002778</td>\n",
              "      <td>False</td>\n",
              "    </tr>\n",
              "    <tr>\n",
              "      <th>22</th>\n",
              "      <td>4</td>\n",
              "      <td>this wall mount doe everything it supposed to ...</td>\n",
              "      <td>Positive</td>\n",
              "      <td>Negative</td>\n",
              "      <td>-0.092143</td>\n",
              "      <td>False</td>\n",
              "    </tr>\n",
              "    <tr>\n",
              "      <th>36</th>\n",
              "      <td>5</td>\n",
              "      <td>didnt think it would work a well a it hasbecau...</td>\n",
              "      <td>Positive</td>\n",
              "      <td>Negative</td>\n",
              "      <td>-0.063889</td>\n",
              "      <td>False</td>\n",
              "    </tr>\n",
              "  </tbody>\n",
              "</table>\n",
              "</div>\n",
              "      <button class=\"colab-df-convert\" onclick=\"convertToInteractive('df-625cccc2-de8d-44e3-b89f-e782c6c7b1e5')\"\n",
              "              title=\"Convert this dataframe to an interactive table.\"\n",
              "              style=\"display:none;\">\n",
              "        \n",
              "  <svg xmlns=\"http://www.w3.org/2000/svg\" height=\"24px\"viewBox=\"0 0 24 24\"\n",
              "       width=\"24px\">\n",
              "    <path d=\"M0 0h24v24H0V0z\" fill=\"none\"/>\n",
              "    <path d=\"M18.56 5.44l.94 2.06.94-2.06 2.06-.94-2.06-.94-.94-2.06-.94 2.06-2.06.94zm-11 1L8.5 8.5l.94-2.06 2.06-.94-2.06-.94L8.5 2.5l-.94 2.06-2.06.94zm10 10l.94 2.06.94-2.06 2.06-.94-2.06-.94-.94-2.06-.94 2.06-2.06.94z\"/><path d=\"M17.41 7.96l-1.37-1.37c-.4-.4-.92-.59-1.43-.59-.52 0-1.04.2-1.43.59L10.3 9.45l-7.72 7.72c-.78.78-.78 2.05 0 2.83L4 21.41c.39.39.9.59 1.41.59.51 0 1.02-.2 1.41-.59l7.78-7.78 2.81-2.81c.8-.78.8-2.07 0-2.86zM5.41 20L4 18.59l7.72-7.72 1.47 1.35L5.41 20z\"/>\n",
              "  </svg>\n",
              "      </button>\n",
              "      \n",
              "  <style>\n",
              "    .colab-df-container {\n",
              "      display:flex;\n",
              "      flex-wrap:wrap;\n",
              "      gap: 12px;\n",
              "    }\n",
              "\n",
              "    .colab-df-convert {\n",
              "      background-color: #E8F0FE;\n",
              "      border: none;\n",
              "      border-radius: 50%;\n",
              "      cursor: pointer;\n",
              "      display: none;\n",
              "      fill: #1967D2;\n",
              "      height: 32px;\n",
              "      padding: 0 0 0 0;\n",
              "      width: 32px;\n",
              "    }\n",
              "\n",
              "    .colab-df-convert:hover {\n",
              "      background-color: #E2EBFA;\n",
              "      box-shadow: 0px 1px 2px rgba(60, 64, 67, 0.3), 0px 1px 3px 1px rgba(60, 64, 67, 0.15);\n",
              "      fill: #174EA6;\n",
              "    }\n",
              "\n",
              "    [theme=dark] .colab-df-convert {\n",
              "      background-color: #3B4455;\n",
              "      fill: #D2E3FC;\n",
              "    }\n",
              "\n",
              "    [theme=dark] .colab-df-convert:hover {\n",
              "      background-color: #434B5C;\n",
              "      box-shadow: 0px 1px 3px 1px rgba(0, 0, 0, 0.15);\n",
              "      filter: drop-shadow(0px 1px 2px rgba(0, 0, 0, 0.3));\n",
              "      fill: #FFFFFF;\n",
              "    }\n",
              "  </style>\n",
              "\n",
              "      <script>\n",
              "        const buttonEl =\n",
              "          document.querySelector('#df-625cccc2-de8d-44e3-b89f-e782c6c7b1e5 button.colab-df-convert');\n",
              "        buttonEl.style.display =\n",
              "          google.colab.kernel.accessAllowed ? 'block' : 'none';\n",
              "\n",
              "        async function convertToInteractive(key) {\n",
              "          const element = document.querySelector('#df-625cccc2-de8d-44e3-b89f-e782c6c7b1e5');\n",
              "          const dataTable =\n",
              "            await google.colab.kernel.invokeFunction('convertToInteractive',\n",
              "                                                     [key], {});\n",
              "          if (!dataTable) return;\n",
              "\n",
              "          const docLinkHtml = 'Like what you see? Visit the ' +\n",
              "            '<a target=\"_blank\" href=https://colab.research.google.com/notebooks/data_table.ipynb>data table notebook</a>'\n",
              "            + ' to learn more about interactive tables.';\n",
              "          element.innerHTML = '';\n",
              "          dataTable['output_type'] = 'display_data';\n",
              "          await google.colab.output.renderOutput(dataTable, element);\n",
              "          const docLink = document.createElement('div');\n",
              "          docLink.innerHTML = docLinkHtml;\n",
              "          element.appendChild(docLink);\n",
              "        }\n",
              "      </script>\n",
              "    </div>\n",
              "  </div>\n",
              "  "
            ],
            "text/plain": [
              "    overall                                         reviewText  \\\n",
              "1         1  im a professional otr truck driver and i bough...   \n",
              "3         2  not going to write a long review even thought ...   \n",
              "4         1  ive had mine for a year and here what we got i...   \n",
              "22        4  this wall mount doe everything it supposed to ...   \n",
              "36        5  didnt think it would work a well a it hasbecau...   \n",
              "\n",
              "   Overall_Sentiment Review_Sentiment  sentiment score  result  \n",
              "1           Negative         Positive         0.062441   False  \n",
              "3           Negative         Positive         0.047284   False  \n",
              "4           Negative         Positive         0.002778   False  \n",
              "22          Positive         Negative        -0.092143   False  \n",
              "36          Positive         Negative        -0.063889   False  "
            ]
          },
          "execution_count": 37,
          "metadata": {},
          "output_type": "execute_result"
        }
      ],
      "source": [
        "df2 = df2[df2.result != True]\n",
        "print(df2.shape)\n",
        "df2.head()"
      ]
    },
    {
      "cell_type": "markdown",
      "metadata": {
        "id": "1QBVfu378iF2",
        "papermill": {
          "duration": 0.077652,
          "end_time": "2021-03-26T07:03:32.857987",
          "exception": false,
          "start_time": "2021-03-26T07:03:32.780335",
          "status": "completed"
        },
        "tags": []
      },
      "source": [
        "Finally, we found all the reviews that are not genuine and that is a lot of reviews."
      ]
    },
    {
      "cell_type": "markdown",
      "metadata": {
        "id": "k8zM50AJ8iF2",
        "papermill": {
          "duration": 0.077075,
          "end_time": "2021-03-26T07:03:33.011191",
          "exception": false,
          "start_time": "2021-03-26T07:03:32.934116",
          "status": "completed"
        },
        "tags": []
      },
      "source": [
        "Conclusion:\n",
        "--\n",
        "The importance of this problem statement is that we can easily find out if the given review is genuine or not. \n",
        "Here, we used review text and star rating from Amazon's Electronic Reviews that was given to the product by the reviewer. We used these features to classify if the given review is truly genuine or not."
      ]
    }
  ],
  "metadata": {
    "colab": {
      "provenance": []
    },
    "kernelspec": {
      "display_name": "Python 3.10.0 64-bit",
      "language": "python",
      "name": "python3"
    },
    "language_info": {
      "codemirror_mode": {
        "name": "ipython",
        "version": 3
      },
      "file_extension": ".py",
      "mimetype": "text/x-python",
      "name": "python",
      "nbconvert_exporter": "python",
      "pygments_lexer": "ipython3",
      "version": "3.10.0"
    },
    "papermill": {
      "default_parameters": {},
      "duration": 5065.022717,
      "end_time": "2021-03-26T07:03:38.623664",
      "environment_variables": {},
      "exception": null,
      "input_path": "__notebook__.ipynb",
      "output_path": "__notebook__.ipynb",
      "parameters": {},
      "start_time": "2021-03-26T05:39:13.600947",
      "version": "2.2.2"
    },
    "vscode": {
      "interpreter": {
        "hash": "319e05f5b8fbc12cf2e2f82968333c527a2dff08bc62b88e91a960b2c3dd00a8"
      }
    }
  },
  "nbformat": 4,
  "nbformat_minor": 0
}
